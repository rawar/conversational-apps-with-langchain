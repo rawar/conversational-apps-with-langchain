{
 "cells": [
  {
   "cell_type": "markdown",
   "metadata": {},
   "source": [
    "# Caching\n",
    "\n",
    "LangChain provides an optional caching layer for large language models (LLMs). It can save you money by reducing the number of API calls you make to the LLM provider, if you’re often requesting the same completion multiple times. It can speed up your application by reducing the number of API calls you make to the LLM provider. For more information about LangChains caching capabilities please have a look [here](https://python.langchain.com/docs/modules/model_io/llms/llm_caching) "
   ]
  },
  {
   "cell_type": "code",
   "execution_count": 7,
   "metadata": {},
   "outputs": [],
   "source": [
    "from langchain.globals import set_llm_cache\n",
    "from langchain_community.chat_models import ChatOllama\n",
    "from langchain.cache import InMemoryCache\n",
    "from IPython.display import display, Markdown"
   ]
  },
  {
   "cell_type": "code",
   "execution_count": 4,
   "metadata": {},
   "outputs": [],
   "source": [
    "llm = ChatOllama(base_url=\"http://192.168.178.84:11434\", model=\"gemma:7b\", temperature=0)\n",
    "set_llm_cache(InMemoryCache())"
   ]
  },
  {
   "cell_type": "code",
   "execution_count": 5,
   "metadata": {},
   "outputs": [],
   "source": [
    "prompt = \"\"\"\n",
    "I want you to act as a travel guide. I will write you my location and you will suggest a place to visit near my location. \n",
    "In some cases, I will also give you the type of places I will visit. You will also suggest me places of similar type that are close to my first location. \n",
    "My first suggestion request is \"I am in Istanbul/Beyoğlu and I want to visit only museums.\n",
    "\"\"\""
   ]
  },
  {
   "cell_type": "code",
   "execution_count": 11,
   "metadata": {},
   "outputs": [
    {
     "name": "stdout",
     "output_type": "stream",
     "text": [
      "CPU times: user 859 µs, sys: 84 µs, total: 943 µs\n",
      "Wall time: 929 µs\n"
     ]
    },
    {
     "data": {
      "text/plain": [
       "AIMessage(content=\"## Istanbul/Beyoğlu Museum Suggestion\\n\\n**Suggested Museum:**\\n\\nThe Museum of Innocence (Muzesi Nakilbent) is a unique museum located in a historic building in the heart of Istanbul's historic Beyoglu district. It showcases a collection of artworks from the 16th to the 20th century, with a particular focus on Turkish art. The museum's intimate atmosphere and diverse collection make it a must-visit for art enthusiasts and anyone interested in Turkish culture.\\n\\n**Similar Museums Nearby:**\\n\\n* **The Museum of Turkish Islamic Arts:** Located in the Topkapı Palace, this museum features a vast collection of Islamic art and artifacts from across Turkey.\\n* **The Galata Museum:** Situated in a historic building in the Galata district, this museum showcases the history of Istanbul from the Byzantine era to the present day.\\n* **The Museum of Turkish Postal History:** Located in the Sultanahmet district, this museum explores the history of Turkish postal services and features a fascinating collection of postal artifacts.\\n\\n**Additional Tips:**\\n\\n* To get the most out of your museum visit, consider purchasing a Museum Pass which grants you access to many museums for a single price.\\n* Be sure to check the museum's website for current hours of operation and ticket prices.\\n* Allow plenty of time to explore the museum's various exhibits and displays.\\n* Consider visiting the museum's cafe or bookstore for a relaxing break.\\n\\n**Overall, the Museum of Innocence is a captivating museum that offers a glimpse into the rich cultural heritage of Istanbul. Its unique collection and intimate atmosphere make it a must-visit for anyone interested in art, history, or Turkish culture.**\")"
      ]
     },
     "execution_count": 11,
     "metadata": {},
     "output_type": "execute_result"
    }
   ],
   "source": [
    "%%time\n",
    "llm.invoke(prompt)"
   ]
  },
  {
   "cell_type": "code",
   "execution_count": 8,
   "metadata": {},
   "outputs": [
    {
     "name": "stdout",
     "output_type": "stream",
     "text": [
      "CPU times: user 2.52 ms, sys: 4.83 ms, total: 7.35 ms\n",
      "Wall time: 6.74 ms\n"
     ]
    }
   ],
   "source": [
    "%%time\n",
    "result = llm.invoke(prompt)"
   ]
  },
  {
   "cell_type": "code",
   "execution_count": 10,
   "metadata": {},
   "outputs": [
    {
     "data": {
      "text/markdown": [
       "## Istanbul/Beyoğlu Museum Suggestion\n",
       "\n",
       "**Suggested Museum:**\n",
       "\n",
       "The Museum of Innocence (Muzesi Nakilbent) is a unique museum located in a historic building in the heart of Istanbul's historic Beyoglu district. It showcases a collection of artworks from the 16th to the 20th century, with a particular focus on Turkish art. The museum's intimate atmosphere and diverse collection make it a must-visit for art enthusiasts and anyone interested in Turkish culture.\n",
       "\n",
       "**Similar Museums Nearby:**\n",
       "\n",
       "* **The Museum of Turkish Islamic Arts:** Located in the Topkapı Palace, this museum features a vast collection of Islamic art and artifacts from across Turkey.\n",
       "* **The Galata Museum:** Situated in a historic building in the Galata district, this museum showcases the history of Istanbul from the Byzantine era to the present day.\n",
       "* **The Museum of Turkish Postal History:** Located in the Sultanahmet district, this museum explores the history of Turkish postal services and features a fascinating collection of postal artifacts.\n",
       "\n",
       "**Additional Tips:**\n",
       "\n",
       "* To get the most out of your museum visit, consider purchasing a Museum Pass which grants you access to many museums for a single price.\n",
       "* Be sure to check the museum's website for current hours of operation and ticket prices.\n",
       "* Allow plenty of time to explore the museum's various exhibits and displays.\n",
       "* Consider visiting the museum's cafe or bookstore for a relaxing break.\n",
       "\n",
       "**Overall, the Museum of Innocence is a captivating museum that offers a glimpse into the rich cultural heritage of Istanbul. Its unique collection and intimate atmosphere make it a must-visit for anyone interested in art, history, or Turkish culture.**"
      ],
      "text/plain": [
       "<IPython.core.display.Markdown object>"
      ]
     },
     "metadata": {},
     "output_type": "display_data"
    }
   ],
   "source": [
    "display(Markdown(result.content))"
   ]
  }
 ],
 "metadata": {
  "kernelspec": {
   "display_name": ".venv",
   "language": "python",
   "name": "python3"
  },
  "language_info": {
   "codemirror_mode": {
    "name": "ipython",
    "version": 3
   },
   "file_extension": ".py",
   "mimetype": "text/x-python",
   "name": "python",
   "nbconvert_exporter": "python",
   "pygments_lexer": "ipython3",
   "version": "3.11.5"
  },
  "orig_nbformat": 4
 },
 "nbformat": 4,
 "nbformat_minor": 2
}
