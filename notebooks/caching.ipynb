{
 "cells": [
  {
   "cell_type": "markdown",
   "metadata": {},
   "source": [
    "# Caching\n",
    "\n",
    "LangChain provides an optional caching layer for large language models (LLMs). It can save you money by reducing the number of API calls you make to the LLM provider, if you’re often requesting the same completion multiple times. It can speed up your application by reducing the number of API calls you make to the LLM provider. For more information about LangChains caching capabilities please have a look [here](https://python.langchain.com/docs/modules/model_io/llms/llm_caching) "
   ]
  },
  {
   "cell_type": "code",
   "execution_count": 1,
   "metadata": {},
   "outputs": [],
   "source": [
    "from langchain.globals import set_llm_cache\n",
    "from langchain_community.chat_models import ChatOllama\n",
    "from langchain.cache import InMemoryCache\n",
    "from IPython.display import display, Markdown"
   ]
  },
  {
   "cell_type": "markdown",
   "metadata": {},
   "source": [
    "## In Memory Caching"
   ]
  },
  {
   "cell_type": "code",
   "execution_count": 6,
   "metadata": {},
   "outputs": [],
   "source": [
    "llm = ChatOllama(base_url=\"http://localhost:11434\", model=\"mistral:7b\", temperature=0)\n",
    "set_llm_cache(InMemoryCache())"
   ]
  },
  {
   "cell_type": "code",
   "execution_count": 7,
   "metadata": {},
   "outputs": [],
   "source": [
    "prompt = \"\"\"\n",
    "I want you to act as a travel guide. I will write you my location and you will suggest a place to visit near my location. \n",
    "In some cases, I will also give you the type of places I will visit. You will also suggest me places of similar type that are close to my first location. \n",
    "My first suggestion request is \"I am in Istanbul/Beyoğlu and I want to visit only museums.\n",
    "\"\"\""
   ]
  },
  {
   "cell_type": "code",
   "execution_count": 8,
   "metadata": {},
   "outputs": [
    {
     "name": "stdout",
     "output_type": "stream",
     "text": [
      "CPU times: user 99.4 ms, sys: 27.8 ms, total: 127 ms\n",
      "Wall time: 32.9 s\n"
     ]
    },
    {
     "data": {
      "text/plain": [
       "AIMessage(content=' If you\\'re in Beyoğlu, Istanbul and looking to visit museums, here are some suggestions:\\n\\n1. Pera Museum: This museum is located in the heart of Beyoğlu and features a collection of Ottoman era art, as well as European paintings and artifacts.\\n2. Sakıp Sabancı Museum: Located in Emirgan, just a short bus ride from Beyoğlu, this museum showcases Turkish and Islamic art, as well as temporary exhibitions.\\n3. Istanbul Modern: This contemporary art museum is located on the Golden Horn, a short ferry or taxi ride from Beyoğlu. It features rotating exhibitions of modern and contemporary art from Turkey and around the world.\\n4. Galata Mevlevi Museum and Whirling Dervishes Hall: Located in the Galata neighborhood of Beyoğlu, this museum is dedicated to the history and culture of the Mevlevi Order, or \"Whirling Dervishes.\" Visitors can also witness a traditional Sama (whirling) performance.\\n5. Rahmi M. Koç Museum: This industrial museum is located on the Golden Horn, a short ferry ride from Beyoğlu. It features exhibits on the history of transportation, communication, and technology in Turkey.\\n\\nIf you\\'re interested in visiting more museums after these suggestions, I can provide additional recommendations based on your location or specific interests.', response_metadata={'model': 'mistral:7b', 'created_at': '2024-04-22T17:33:00.886687Z', 'message': {'role': 'assistant', 'content': ''}, 'done': True, 'total_duration': 32935667959, 'load_duration': 6387964167, 'prompt_eval_count': 104, 'prompt_eval_duration': 961442000, 'eval_count': 309, 'eval_duration': 25578784000}, id='run-ef12d3c2-5d8d-48ab-bc27-d5998a4b5931-0')"
      ]
     },
     "execution_count": 8,
     "metadata": {},
     "output_type": "execute_result"
    }
   ],
   "source": [
    "%%time\n",
    "llm.invoke(prompt)"
   ]
  },
  {
   "cell_type": "code",
   "execution_count": 9,
   "metadata": {},
   "outputs": [
    {
     "name": "stdout",
     "output_type": "stream",
     "text": [
      "CPU times: user 582 µs, sys: 702 µs, total: 1.28 ms\n",
      "Wall time: 1.23 ms\n"
     ]
    }
   ],
   "source": [
    "%%time\n",
    "result = llm.invoke(prompt)"
   ]
  },
  {
   "cell_type": "code",
   "execution_count": 10,
   "metadata": {},
   "outputs": [
    {
     "data": {
      "text/markdown": [
       " If you're in Beyoğlu, Istanbul and looking to visit museums, here are some suggestions:\n",
       "\n",
       "1. Pera Museum: This museum is located in the heart of Beyoğlu and features a collection of Ottoman era art, as well as European paintings and artifacts.\n",
       "2. Sakıp Sabancı Museum: Located in Emirgan, just a short bus ride from Beyoğlu, this museum showcases Turkish and Islamic art, as well as temporary exhibitions.\n",
       "3. Istanbul Modern: This contemporary art museum is located on the Golden Horn, a short ferry or taxi ride from Beyoğlu. It features rotating exhibitions of modern and contemporary art from Turkey and around the world.\n",
       "4. Galata Mevlevi Museum and Whirling Dervishes Hall: Located in the Galata neighborhood of Beyoğlu, this museum is dedicated to the history and culture of the Mevlevi Order, or \"Whirling Dervishes.\" Visitors can also witness a traditional Sama (whirling) performance.\n",
       "5. Rahmi M. Koç Museum: This industrial museum is located on the Golden Horn, a short ferry ride from Beyoğlu. It features exhibits on the history of transportation, communication, and technology in Turkey.\n",
       "\n",
       "If you're interested in visiting more museums after these suggestions, I can provide additional recommendations based on your location or specific interests."
      ],
      "text/plain": [
       "<IPython.core.display.Markdown object>"
      ]
     },
     "metadata": {},
     "output_type": "display_data"
    }
   ],
   "source": [
    "display(Markdown(result.content))"
   ]
  },
  {
   "cell_type": "markdown",
   "metadata": {},
   "source": [
    "## Persistant Caching with SQLite "
   ]
  },
  {
   "cell_type": "code",
   "execution_count": 13,
   "metadata": {},
   "outputs": [],
   "source": [
    "from langchain.cache import SQLiteCache\n",
    "from langchain.globals import set_llm_cache\n",
    "from langchain_community.chat_models import ChatOllama\n",
    "from IPython.display import display, Markdown\n",
    "import os"
   ]
  },
  {
   "cell_type": "code",
   "execution_count": 14,
   "metadata": {},
   "outputs": [],
   "source": [
    "llm = ChatOllama(base_url=\"http://localhost:11434\", model=\"gemma:7b\", temperature=0)"
   ]
  },
  {
   "cell_type": "code",
   "execution_count": 15,
   "metadata": {},
   "outputs": [],
   "source": [
    "cache_filename = \".langchain_cache.db\"\n",
    "if os.path.exists(cache_filename):\n",
    "    os.remove(cache_filename)\n",
    "\n",
    "set_llm_cache(SQLiteCache(database_path=cache_filename))"
   ]
  },
  {
   "cell_type": "code",
   "execution_count": 16,
   "metadata": {},
   "outputs": [],
   "source": [
    "prompt = \"\"\"\n",
    "Help me write a birthday card for my wife Andrea.\n",
    "Here are details about my wife:\n",
    "She likes long walks on the beach and eating tons of ice cream.\n",
    "Her hobbies include reading true crime stories and hearing podcasts about it.\n",
    "Her favorite color is blue.\n",
    "He likes dogs and parrot.\n",
    "\"\"\""
   ]
  },
  {
   "cell_type": "code",
   "execution_count": 17,
   "metadata": {},
   "outputs": [
    {
     "name": "stdout",
     "output_type": "stream",
     "text": [
      "CPU times: user 95.4 ms, sys: 52.6 ms, total: 148 ms\n",
      "Wall time: 37.6 s\n"
     ]
    }
   ],
   "source": [
    "%%time\n",
    "result = llm.invoke(prompt)"
   ]
  },
  {
   "cell_type": "code",
   "execution_count": 18,
   "metadata": {},
   "outputs": [
    {
     "name": "stdout",
     "output_type": "stream",
     "text": [
      "CPU times: user 1.69 ms, sys: 2.82 ms, total: 4.51 ms\n",
      "Wall time: 4.42 ms\n"
     ]
    }
   ],
   "source": [
    "%%time\n",
    "result = llm.invoke(prompt)"
   ]
  },
  {
   "cell_type": "code",
   "execution_count": 19,
   "metadata": {},
   "outputs": [
    {
     "data": {
      "text/markdown": [
       "**Subject: Happy Birthday, My Dearest Andrea!**\n",
       "\n",
       "**Dear Andrea,**\n",
       "\n",
       "Happy Birthday, my precious wife! I hope this day brings you joy and happiness.\n",
       "\n",
       "I know you're passionate about long walks on the beach and indulging in your favorite ice cream. I'm also excited to hear that you're continuing to immerse yourself in true crime stories and podcasts. I'm sure you'll be thrilled with the latest book you're reading and the latest podcast you're listening to.\n",
       "\n",
       "I'm also thinking of your favorite color, blue, and I've chosen a card that perfectly captures its beauty. I'm hoping you'll love it! And of course, I couldn't forget to mention your beloved dogs and parrot. I'm sending all my love to you and your furry companions.\n",
       "\n",
       "I'm looking forward to celebrating your special day with you. I'm planning on making your favorite ice cream and taking you for a romantic walk along the beach. I'm also hoping we can cuddle up and read a true crime story together.\n",
       "\n",
       "Have a wonderful birthday, my love. I can't wait to see you smile.\n",
       "\n",
       "**Love always,**\n",
       "\n",
       "**[Your Name]**"
      ],
      "text/plain": [
       "<IPython.core.display.Markdown object>"
      ]
     },
     "metadata": {},
     "output_type": "display_data"
    }
   ],
   "source": [
    "display(Markdown(result.content))"
   ]
  }
 ],
 "metadata": {
  "kernelspec": {
   "display_name": ".venv",
   "language": "python",
   "name": "python3"
  },
  "language_info": {
   "codemirror_mode": {
    "name": "ipython",
    "version": 3
   },
   "file_extension": ".py",
   "mimetype": "text/x-python",
   "name": "python",
   "nbconvert_exporter": "python",
   "pygments_lexer": "ipython3",
   "version": "3.12.2"
  },
  "orig_nbformat": 4
 },
 "nbformat": 4,
 "nbformat_minor": 2
}
