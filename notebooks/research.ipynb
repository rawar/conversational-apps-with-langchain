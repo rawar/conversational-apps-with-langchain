{
 "cells": [
  {
   "cell_type": "markdown",
   "metadata": {},
   "source": [
    "# Research Agent\n",
    "\n",
    "‍LangChain agents are specialized components within the LangChain framework that interact with the real world. These agents are specifically designed to perform well-defined tasks, such as answering questions, generating text, translating languages, and summarizing text. They serve as tools for automating tasks and engaging with real-world scenarios.\n",
    "\n",
    "## Architecture\n",
    "\n",
    "1. Input Reception: The agent receives natural language input from the user.\n",
    "1. Processing with LLM: The agent employs the LLM to process the input and formulate an action plan.\n",
    "1. Plan Execution: The agent executes the devised action plan, which might involve interacting with other tools or services.\n",
    "1. Output Delivery: Subsequently, the agent delivers the output of the executed plan back to the user.\n",
    "\n",
    "The key components of LangChain agents include the agent itself, external tools, and toolkits:\n",
    "\n",
    "* __Agent__: The core of the architecture, responsible for processing input, generating action plans, and executing them.\n",
    "* __Tools__: These external resources are utilized by the agent to accomplish tasks. They encompass a diverse range, from other LLMs to web APIs.\n",
    "* __Toolkits__: Toolkits consist of groups of tools purposefully assembled for specific functions. Examples include toolkits for question answering, text generation, and natural language processing."
   ]
  },
  {
   "cell_type": "code",
   "execution_count": 8,
   "metadata": {},
   "outputs": [],
   "source": [
    "from langchain.tools import Tool, DuckDuckGoSearchRun, ArxivQueryRun, WikipediaQueryRun\n",
    "from langchain.utilities import WikipediaAPIWrapper\n",
    "from langchain.agents import initialize_agent\n",
    "from langchain.agents import AgentType\n",
    "from langchain.chat_models import ChatOpenAI\n",
    "from langchain.chains import LLMChain\n",
    "from langchain.prompts import PromptTemplate\n",
    "from langchain_community.chat_models import ChatOllama\n",
    "from langchain.globals import set_debug\n",
    "from langchain.globals import set_verbose\n",
    "from IPython.display import display, Markdown"
   ]
  },
  {
   "cell_type": "code",
   "execution_count": 27,
   "metadata": {},
   "outputs": [],
   "source": [
    "search = DuckDuckGoSearchRun()\n",
    "arxiv = ArxivQueryRun()\n",
    "wiki = WikipediaQueryRun(api_wrapper=WikipediaAPIWrapper())"
   ]
  },
  {
   "cell_type": "code",
   "execution_count": 35,
   "metadata": {},
   "outputs": [],
   "source": [
    "llm = ChatOllama(base_url=\"http://localhost:11434\", model=\"mistral:7b\", temperature=0)\n",
    "prompt_template = \"Write an essay for the topic provided by the user with the help of following content: {content}\"  \n",
    "essay = LLMChain(  \n",
    "    llm=llm,  \n",
    "    prompt=PromptTemplate.from_template(prompt_template)  \n",
    ")"
   ]
  },
  {
   "cell_type": "code",
   "execution_count": 36,
   "metadata": {},
   "outputs": [
    {
     "data": {
      "text/plain": [
       "Tool(name='Essay', description='useful when you need to write an essay', func=<bound method Chain.run of LLMChain(prompt=PromptTemplate(input_variables=['content'], template='Write an essay for the topic provided by the user with the help of following content: {content}'), llm=ChatOllama(model='mistral:7b', temperature=0.0))>)"
      ]
     },
     "execution_count": 36,
     "metadata": {},
     "output_type": "execute_result"
    }
   ],
   "source": [
    "Tool.from_function(  \n",
    " func=essay.run,  \n",
    " name=\"Essay\",  \n",
    " description=\"useful when you need to write an essay\"  \n",
    ")"
   ]
  },
  {
   "cell_type": "code",
   "execution_count": 38,
   "metadata": {},
   "outputs": [],
   "source": [
    "tools = [  \n",
    "    Tool(  \n",
    "     name=\"Search\",  \n",
    "     func=search.run,  \n",
    "     description=\"useful for when you need to answer questions about current events.\"  \n",
    " ),  \n",
    " Tool(  \n",
    "     name=\"Arxiv\",  \n",
    "     func=arxiv.run,  \n",
    "     description=\"useful when you need an answer about encyclopedic general knowledge\"  \n",
    " ),  \n",
    " Tool(  \n",
    "     name=\"Wikipedia\",  \n",
    "     func=wiki.run,  \n",
    "     description=\"useful when you need an answer about encyclopedic general knowledge\"  \n",
    " ),  \n",
    " Tool.from_function(  \n",
    "     func=essay.run,  \n",
    "     name=\"Essay\",  \n",
    "     description=\"useful when you need to write an essay\"  \n",
    " ),\n",
    "]\n",
    "agent = initialize_agent(tools, llm, agent=AgentType.ZERO_SHOT_REACT_DESCRIPTION, verbose=True, handle_parsing_errors=True)\n"
   ]
  },
  {
   "cell_type": "code",
   "execution_count": 39,
   "metadata": {},
   "outputs": [
    {
     "name": "stdout",
     "output_type": "stream",
     "text": [
      "\n",
      "\n",
      "\u001b[1m> Entering new AgentExecutor chain...\u001b[0m\n",
      "\u001b[32;1m\u001b[1;3m To write a 1000-word essay on the topic of quantum computers, I will first gather comprehensive information using the available tools. I'll begin by searching for current and general knowledge about quantum computing on the web using Search. Then, I'll delve deeper into the theoretical aspects and encyclopedic knowledge using Arxiv and Wikipedia respectively.\n",
      "\n",
      "Action: Search\n",
      "Action Input: Quantum computer essay 1000 words\u001b[0m\n",
      "Observation: \u001b[36;1m\u001b[1;3mFredkin took things even further, concluding that the whole Universe could actually be seen as a kind of computer. In his view, it was a 'cellular automaton': a collection of computational ... By Alex Wilkins. 24 October 2023. The largest quantum computer yet built, created by Atom Computing. Atom Computing. The world's first quantum computer to exceed 1000 qubits has more than double ... Quantum + computing = quantum computing. The key features of an ordinary computer—bits, registers, logic gates, algorithms, and so on—have analogous features in a quantum computer. Instead of bits, a quantum computer has quantum bits or qubits , which work in a particularly intriguing way. In its latest quantum processor, called Heron, IBM has improved the reliability of the qubits. Credit: Ryan Lavine for IBM. IBM has unveiled the first quantum computer with more than 1,000 qubits ... When scientists want to do things like harness the power of molecules during photosynthesis, they won't be able to do so using regular old computers.They need to use quantum computers, which are able to measure and observe quantum systems at the molecular level as well as solve the conditional probability of events.Basically, quantum computers can do billions of years worth of computing over ...\u001b[0m\n",
      "Thought:\u001b[32;1m\u001b[1;3m I have gathered some general information about quantum computers through my Search query. Now, I will use Arxiv and Wikipedia to delve deeper into the theoretical aspects and encyclopedic knowledge of quantum computing.\n",
      "\n",
      "Action: Arxiv\n",
      "Action Input: quantum computer theory\u001b[0m\n",
      "Observation: \u001b[33;1m\u001b[1;3mPublished: 2003-05-05\n",
      "Title: Quantum computer: an appliance for playing market games\n",
      "Authors: Edward W. Piotrowski, Jan Sladkowski\n",
      "Summary: Recent development in quantum computation and quantum information theory\n",
      "allows to extend the scope of game theory for the quantum world. The authors\n",
      "have recently proposed a quantum description of financial market in terms of\n",
      "quantum game theory. The paper contain an analysis of such markets that shows\n",
      "that there would be advantage in using quantum computers and quantum\n",
      "strategies.\n",
      "\n",
      "Published: 1994-12-06\n",
      "Title: Quantum computation and complexity theory\n",
      "Authors: K. Svozil\n",
      "Summary: The Hilbert space formalism of quantum mechanics is reviewed with emphasis on\n",
      "applications to quantum computing. Standard interferomeric techniques are used\n",
      "to construct a physical device capable of universal quantum computation. Some\n",
      "consequences for recursion theory and complexity theory are discussed.\n",
      "\n",
      "Published: 1995-10-05\n",
      "Title: Quantum algorithmic information theory\n",
      "Authors: Karl Svozil\n",
      "Summary: The agenda of quantum algorithmic information theory, ordered `top-down,' is\n",
      "the quantum halting amplitude, followed by the quantum algorithmic information\n",
      "content, which in turn requires the theory of quantum computation. The\n",
      "fundamental atoms processed by quantum computation are the quantum bits which\n",
      "are dealt with in quantum information theory. The theory of quantum computation\n",
      "will be based upon a model of universal quantum computer whose elementary unit\n",
      "is a two-port interferometer capable of arbitrary $U(2)$ transformations. Basic\n",
      "to all these considerations is quantum theory, in particular Hilbert space\n",
      "quantum mechanics.\u001b[0m\n",
      "Thought:\u001b[32;1m\u001b[1;3m I have obtained some theoretical papers related to quantum computing from Arxiv. Now, I will use Wikipedia to gather more encyclopedic knowledge and fill in any gaps in my understanding of the topic.\n",
      "\n",
      "Action: Wikipedia\n",
      "Action Input: Quantum computer\u001b[0m\n",
      "Observation: \u001b[38;5;200m\u001b[1;3mPage: Quantum computing\n",
      "Summary: A quantum computer is a computer that takes advantage of quantum mechanical phenomena.\n",
      "On small scales, physical matter exhibits properties of both particles and waves, and quantum computing leverages this behavior, specifically quantum superposition and entanglement, using specialized hardware that supports the preparation and manipulation of quantum states.\n",
      "Classical physics cannot explain the operation of these quantum devices, and a scalable quantum computer could perform some calculations exponentially faster (with respect to input size scaling) than any modern \"classical\" computer. In particular, a large-scale quantum computer could break widely used encryption schemes and aid physicists in performing physical simulations; however, the current state of the technology is largely experimental and impractical, with several obstacles to useful applications. Moreover, scalable quantum computers do not hold promise for many practical tasks, and for many important tasks quantum speedups are proven impossible.\n",
      "The basic unit of information in quantum computing is the qubit, similar to the bit in traditional digital electronics. Unlike a classical bit, a qubit can exist in a superposition of its two \"basis\" states. When measuring a qubit, the result is a probabilistic output of a classical bit, therefore making quantum computers nondeterministic in general. If a quantum computer manipulates the qubit in a particular way, wave interference effects can amplify the desired measurement results. The design of quantum algorithms involves creating procedures that allow a quantum computer to perform calculations efficiently and quickly.\n",
      "Physically engineering high-quality qubits has proven challenging. If a physical qubit is not sufficiently isolated from its environment, it suffers from quantum decoherence, introducing noise into calculations. Paradoxically, perfectly isolating qubits is also undesirable because quantum computations typically need to initialize qubits, perform controlled qubit interactions, and measure the resulting quantum states. Each of those operations introduces errors and suffers from noise, and such inaccuracies accumulate.\n",
      "In principle, a non-quantum (classical) computer can solve the same computational problems as a quantum computer, given enough time. Quantum advantage comes in the form of time complexity rather than computability, and quantum complexity theory shows that some quantum algorithms for carefully selected tasks require exponentially fewer computational steps than the best known non-quantum algorithms. Such tasks can in theory be solved on a large-scale quantum computer whereas classical computers would not finish computations in any reasonable amount of time. However, quantum speedup is not universal or even typical across computational tasks, since basic tasks such as sorting are proven to not allow any asymptotic quantum speedup. Claims of quantum supremacy have drawn significant attention to the discipline, but are demonstrated on contrived tasks, while near-term practical use cases remain limited.\n",
      "\n",
      "Page: Timeline of quantum computing and communication\n",
      "Summary: This is a timeline of quantum computing.\n",
      "\n",
      "Page: Topological quantum computer\n",
      "Summary: A topological quantum computer is a theoretical quantum computer proposed by Russian-American physicist Alexei Kitaev in 1997. It employs quasiparticles in two-dimensional systems, called anyons, whose world lines pass around one another to form braids in a three-dimensional spacetime (i.e., one temporal plus two spatial dimensions). These braids form the logic gates that make up the computer. The advantage of a quantum computer based on quantum braids over using trapped quantum particles is that the former is much more stable. Small, cumulative perturbations can cause quantum states to decohere and introduce errors in the computation, but such small perturbations do not change the braids' topological properties. This is\u001b[0m\n",
      "Thought:\u001b[32;1m\u001b[1;3m I have obtained comprehensive information about quantum computers through my searches on Search, Arxiv, and Wikipedia. Based on this information, I can now write a 1000-word essay on the topic of quantum computing.\n",
      "\n",
      "Final Answer: (Essay to be generated here)\n",
      "\n",
      "Quantum computing is a revolutionary technology that leverages the unique properties of quantum mechanics to perform calculations exponentially faster than classical computers. At its core, a quantum computer uses qubits instead of classical bits as its basic unit of information. Unlike classical bits, which can only exist in one of two states (0 or 1), qubits can exist in a superposition of both states, allowing for the processing of multiple possibilities simultaneously.\n",
      "\n",
      "The concept of quantum computing was first proposed in the late 1980s and early 1990s by researchers such as Peter Shor and Lov Grover. Since then, significant progress has been made in developing quantum algorithms and building experimental quantum computers. However, the technology remains largely experimental and faces numerous challenges, including the need to engineer high-quality qubits that are isolated from their environment and can perform calculations efficiently and accurately.\n",
      "\n",
      "One promising approach to building a practical quantum computer is through the use of topological qubits, which employ quasiparticles called anyons whose world lines pass around one another to form braids in three-dimensional spacetime. These braids act as logic gates, making topological quantum computers much more stable than other types of quantum computers.\n",
      "\n",
      "Despite these challenges, the potential benefits of quantum computing are significant. A large-scale quantum computer could perform calculations exponentially faster than classical computers, potentially revolutionizing fields such as cryptography and materials science. However, it is important to note that not all computational tasks can be solved more efficiently on a quantum computer, and some tasks may even be impossible to solve using quantum algorithms.\n",
      "\n",
      "In conclusion, quantum computing represents an exciting and promising area of research with the potential to revolutionize the way we process information. While significant challenges remain, the progress made in recent years offers hope that a practical quantum computer is within reach. As researchers continue to explore new approaches to building and programming quantum computers, we can look forward to a future where the power of quantum mechanics is harnessed to solve some of the most complex problems facing our world.\u001b[0m\n",
      "\n",
      "\u001b[1m> Finished chain.\u001b[0m\n"
     ]
    }
   ],
   "source": [
    "prompt = \"Write an essay in 1000 words for the topic {input}, use the tools to retrieve the necessary information\"  \n",
    "#input = \"global warming\"  \n",
    "input = \"quantum computer\"\n",
    "  \n",
    "response = agent.invoke(prompt.format(input=input))"
   ]
  },
  {
   "cell_type": "code",
   "execution_count": 24,
   "metadata": {},
   "outputs": [
    {
     "data": {
      "text/markdown": [
       "(To be written as part of the essay)\n",
       "\n",
       "Quantum computers are revolutionary devices that take advantage of quantum mechanical phenomena to perform calculations exponentially faster than classical computers. The basic unit of information in quantum computing is the qubit, which can exist in a superposition of its two basis states. Unlike classical bits, qubits are nondeterministic and require specialized hardware for preparation and manipulation.\n",
       "\n",
       "The design of quantum algorithms involves creating procedures that allow a quantum computer to perform calculations efficiently and quickly. However, physically engineering high-quality qubits has proven challenging due to the issue of quantum decoherence, which introduces noise into calculations. Topological quantum computers are a promising solution to this problem as they employ quasiparticles called anyons whose world lines pass around one another to form braids in three-dimensional spacetime. These braids form the logic gates that make up the computer, making it much more stable than traditional quantum computers based on trapped quantum particles.\n",
       "\n",
       "Despite the challenges, quantum computing holds great promise for solving computational problems that are currently intractable for classical computers. However, it is important to note that not all tasks can be solved faster using a quantum computer, and practical use cases remain limited. The field of quantum computing has drawn significant attention due to claims of quantum supremacy, but near-term applications remain elusive.\n",
       "\n",
       "In conclusion, quantum computing represents a significant leap forward in computational technology, offering the potential for exponential speedups for carefully selected tasks. However, it also presents unique challenges that must be addressed before practical applications can be realized. The development of topological quantum computers offers a promising solution to some of these challenges and holds great promise for the future of computing."
      ],
      "text/plain": [
       "<IPython.core.display.Markdown object>"
      ]
     },
     "metadata": {},
     "output_type": "display_data"
    }
   ],
   "source": [
    "display(Markdown(response['output']))"
   ]
  }
 ],
 "metadata": {
  "kernelspec": {
   "display_name": ".venv",
   "language": "python",
   "name": "python3"
  },
  "language_info": {
   "codemirror_mode": {
    "name": "ipython",
    "version": 3
   },
   "file_extension": ".py",
   "mimetype": "text/x-python",
   "name": "python",
   "nbconvert_exporter": "python",
   "pygments_lexer": "ipython3",
   "version": "3.12.2"
  }
 },
 "nbformat": 4,
 "nbformat_minor": 2
}
