{
 "cells": [
  {
   "cell_type": "markdown",
   "metadata": {},
   "source": [
    "# RAG - Retrieval-Augmented Generation\n",
    "\n",
    "RAG extends the already powerful capabilities of LLMs to specific domains or an organization's internal knowledge base, all without the need to retrain the model. It is a cost-effective approach to improving LLM output so it remains relevant, accurate, and useful in various contexts.\n",
    "\n",
    "## How RAG works\n",
    "\n",
    "* Create external data\n",
    "* Retrieve relevant information\n",
    "* Augment the LLM prompt"
   ]
  },
  {
   "cell_type": "code",
   "execution_count": 9,
   "metadata": {},
   "outputs": [],
   "source": [
    "import urllib.request\n",
    "from langchain_community.document_loaders import TextLoader\n",
    "from langchain.text_splitter import CharacterTextSplitter\n",
    "from langchain_community.embeddings import OllamaEmbeddings\n",
    "from langchain_community.chat_models import ChatOllama\n",
    "from langchain_community.vectorstores import FAISS\n",
    "from langchain.chains import RetrievalQA\n",
    "from langchain import hub"
   ]
  },
  {
   "cell_type": "markdown",
   "metadata": {},
   "source": [
    "### Configure embeddings model and the vector store"
   ]
  },
  {
   "cell_type": "code",
   "execution_count": 10,
   "metadata": {},
   "outputs": [],
   "source": [
    "HOST = \"http://localhost:11434\"\n",
    "LLM_MODEL = \"gemma:7b\"\n",
    "EMBEDDINGS_MODEL = \"nomic-embed-text:latest\"\n",
    "llm = ChatOllama(base_url=HOST, model=LLM_MODEL, temperature=0)\n",
    "embeddings_model = OllamaEmbeddings(base_url=HOST, model=EMBEDDINGS_MODEL)"
   ]
  },
  {
   "cell_type": "markdown",
   "metadata": {},
   "source": [
    "### Get the book 20.000 Leagues under the see"
   ]
  },
  {
   "cell_type": "code",
   "execution_count": 3,
   "metadata": {},
   "outputs": [],
   "source": [
    "url = 'https://www.gutenberg.org/cache/epub/164/pg164.txt'\n",
    "filename = '../data/twenty-thousand-leagues-under-the-sea.txt'"
   ]
  },
  {
   "cell_type": "code",
   "execution_count": null,
   "metadata": {},
   "outputs": [],
   "source": [
    "urllib.request.urlretrieve(url, filename)"
   ]
  },
  {
   "cell_type": "code",
   "execution_count": 4,
   "metadata": {},
   "outputs": [],
   "source": [
    "loader = TextLoader(filename)\n",
    "documents = loader.load()"
   ]
  },
  {
   "cell_type": "code",
   "execution_count": 7,
   "metadata": {},
   "outputs": [
    {
     "name": "stderr",
     "output_type": "stream",
     "text": [
      "Created a chunk of size 517, which is longer than the specified 500\n",
      "Created a chunk of size 733, which is longer than the specified 500\n",
      "Created a chunk of size 778, which is longer than the specified 500\n",
      "Created a chunk of size 521, which is longer than the specified 500\n",
      "Created a chunk of size 1076, which is longer than the specified 500\n",
      "Created a chunk of size 719, which is longer than the specified 500\n",
      "Created a chunk of size 613, which is longer than the specified 500\n",
      "Created a chunk of size 556, which is longer than the specified 500\n",
      "Created a chunk of size 999, which is longer than the specified 500\n",
      "Created a chunk of size 1042, which is longer than the specified 500\n",
      "Created a chunk of size 529, which is longer than the specified 500\n",
      "Created a chunk of size 634, which is longer than the specified 500\n",
      "Created a chunk of size 1378, which is longer than the specified 500\n",
      "Created a chunk of size 579, which is longer than the specified 500\n",
      "Created a chunk of size 532, which is longer than the specified 500\n",
      "Created a chunk of size 621, which is longer than the specified 500\n",
      "Created a chunk of size 667, which is longer than the specified 500\n",
      "Created a chunk of size 997, which is longer than the specified 500\n",
      "Created a chunk of size 873, which is longer than the specified 500\n",
      "Created a chunk of size 599, which is longer than the specified 500\n",
      "Created a chunk of size 687, which is longer than the specified 500\n",
      "Created a chunk of size 570, which is longer than the specified 500\n",
      "Created a chunk of size 1094, which is longer than the specified 500\n",
      "Created a chunk of size 531, which is longer than the specified 500\n",
      "Created a chunk of size 1127, which is longer than the specified 500\n",
      "Created a chunk of size 649, which is longer than the specified 500\n",
      "Created a chunk of size 762, which is longer than the specified 500\n",
      "Created a chunk of size 614, which is longer than the specified 500\n",
      "Created a chunk of size 679, which is longer than the specified 500\n",
      "Created a chunk of size 532, which is longer than the specified 500\n",
      "Created a chunk of size 1057, which is longer than the specified 500\n",
      "Created a chunk of size 587, which is longer than the specified 500\n",
      "Created a chunk of size 814, which is longer than the specified 500\n",
      "Created a chunk of size 1240, which is longer than the specified 500\n",
      "Created a chunk of size 560, which is longer than the specified 500\n",
      "Created a chunk of size 525, which is longer than the specified 500\n",
      "Created a chunk of size 943, which is longer than the specified 500\n",
      "Created a chunk of size 1034, which is longer than the specified 500\n",
      "Created a chunk of size 635, which is longer than the specified 500\n",
      "Created a chunk of size 515, which is longer than the specified 500\n",
      "Created a chunk of size 666, which is longer than the specified 500\n",
      "Created a chunk of size 555, which is longer than the specified 500\n",
      "Created a chunk of size 1084, which is longer than the specified 500\n",
      "Created a chunk of size 556, which is longer than the specified 500\n",
      "Created a chunk of size 600, which is longer than the specified 500\n",
      "Created a chunk of size 504, which is longer than the specified 500\n",
      "Created a chunk of size 553, which is longer than the specified 500\n",
      "Created a chunk of size 570, which is longer than the specified 500\n",
      "Created a chunk of size 868, which is longer than the specified 500\n",
      "Created a chunk of size 675, which is longer than the specified 500\n",
      "Created a chunk of size 643, which is longer than the specified 500\n",
      "Created a chunk of size 595, which is longer than the specified 500\n",
      "Created a chunk of size 704, which is longer than the specified 500\n",
      "Created a chunk of size 617, which is longer than the specified 500\n",
      "Created a chunk of size 741, which is longer than the specified 500\n",
      "Created a chunk of size 600, which is longer than the specified 500\n",
      "Created a chunk of size 602, which is longer than the specified 500\n",
      "Created a chunk of size 1048, which is longer than the specified 500\n",
      "Created a chunk of size 769, which is longer than the specified 500\n",
      "Created a chunk of size 1149, which is longer than the specified 500\n",
      "Created a chunk of size 893, which is longer than the specified 500\n",
      "Created a chunk of size 1289, which is longer than the specified 500\n",
      "Created a chunk of size 782, which is longer than the specified 500\n",
      "Created a chunk of size 673, which is longer than the specified 500\n",
      "Created a chunk of size 942, which is longer than the specified 500\n",
      "Created a chunk of size 647, which is longer than the specified 500\n",
      "Created a chunk of size 808, which is longer than the specified 500\n",
      "Created a chunk of size 726, which is longer than the specified 500\n",
      "Created a chunk of size 679, which is longer than the specified 500\n",
      "Created a chunk of size 653, which is longer than the specified 500\n",
      "Created a chunk of size 573, which is longer than the specified 500\n",
      "Created a chunk of size 537, which is longer than the specified 500\n",
      "Created a chunk of size 826, which is longer than the specified 500\n",
      "Created a chunk of size 703, which is longer than the specified 500\n",
      "Created a chunk of size 568, which is longer than the specified 500\n",
      "Created a chunk of size 885, which is longer than the specified 500\n",
      "Created a chunk of size 934, which is longer than the specified 500\n",
      "Created a chunk of size 506, which is longer than the specified 500\n",
      "Created a chunk of size 682, which is longer than the specified 500\n",
      "Created a chunk of size 559, which is longer than the specified 500\n",
      "Created a chunk of size 579, which is longer than the specified 500\n",
      "Created a chunk of size 710, which is longer than the specified 500\n",
      "Created a chunk of size 609, which is longer than the specified 500\n",
      "Created a chunk of size 763, which is longer than the specified 500\n",
      "Created a chunk of size 574, which is longer than the specified 500\n",
      "Created a chunk of size 501, which is longer than the specified 500\n",
      "Created a chunk of size 602, which is longer than the specified 500\n",
      "Created a chunk of size 1091, which is longer than the specified 500\n",
      "Created a chunk of size 543, which is longer than the specified 500\n",
      "Created a chunk of size 553, which is longer than the specified 500\n",
      "Created a chunk of size 838, which is longer than the specified 500\n",
      "Created a chunk of size 503, which is longer than the specified 500\n",
      "Created a chunk of size 527, which is longer than the specified 500\n",
      "Created a chunk of size 929, which is longer than the specified 500\n",
      "Created a chunk of size 1016, which is longer than the specified 500\n",
      "Created a chunk of size 1145, which is longer than the specified 500\n",
      "Created a chunk of size 704, which is longer than the specified 500\n",
      "Created a chunk of size 535, which is longer than the specified 500\n",
      "Created a chunk of size 585, which is longer than the specified 500\n",
      "Created a chunk of size 660, which is longer than the specified 500\n",
      "Created a chunk of size 1343, which is longer than the specified 500\n",
      "Created a chunk of size 626, which is longer than the specified 500\n",
      "Created a chunk of size 925, which is longer than the specified 500\n",
      "Created a chunk of size 1809, which is longer than the specified 500\n",
      "Created a chunk of size 559, which is longer than the specified 500\n",
      "Created a chunk of size 558, which is longer than the specified 500\n",
      "Created a chunk of size 631, which is longer than the specified 500\n",
      "Created a chunk of size 802, which is longer than the specified 500\n",
      "Created a chunk of size 510, which is longer than the specified 500\n",
      "Created a chunk of size 1630, which is longer than the specified 500\n",
      "Created a chunk of size 1384, which is longer than the specified 500\n",
      "Created a chunk of size 1032, which is longer than the specified 500\n",
      "Created a chunk of size 757, which is longer than the specified 500\n",
      "Created a chunk of size 765, which is longer than the specified 500\n",
      "Created a chunk of size 871, which is longer than the specified 500\n",
      "Created a chunk of size 522, which is longer than the specified 500\n",
      "Created a chunk of size 830, which is longer than the specified 500\n",
      "Created a chunk of size 534, which is longer than the specified 500\n",
      "Created a chunk of size 991, which is longer than the specified 500\n",
      "Created a chunk of size 527, which is longer than the specified 500\n",
      "Created a chunk of size 741, which is longer than the specified 500\n",
      "Created a chunk of size 509, which is longer than the specified 500\n",
      "Created a chunk of size 556, which is longer than the specified 500\n",
      "Created a chunk of size 582, which is longer than the specified 500\n",
      "Created a chunk of size 511, which is longer than the specified 500\n",
      "Created a chunk of size 551, which is longer than the specified 500\n",
      "Created a chunk of size 749, which is longer than the specified 500\n",
      "Created a chunk of size 764, which is longer than the specified 500\n",
      "Created a chunk of size 640, which is longer than the specified 500\n",
      "Created a chunk of size 628, which is longer than the specified 500\n",
      "Created a chunk of size 598, which is longer than the specified 500\n",
      "Created a chunk of size 952, which is longer than the specified 500\n",
      "Created a chunk of size 1226, which is longer than the specified 500\n",
      "Created a chunk of size 753, which is longer than the specified 500\n",
      "Created a chunk of size 1171, which is longer than the specified 500\n",
      "Created a chunk of size 657, which is longer than the specified 500\n",
      "Created a chunk of size 591, which is longer than the specified 500\n",
      "Created a chunk of size 757, which is longer than the specified 500\n",
      "Created a chunk of size 584, which is longer than the specified 500\n",
      "Created a chunk of size 712, which is longer than the specified 500\n",
      "Created a chunk of size 887, which is longer than the specified 500\n",
      "Created a chunk of size 572, which is longer than the specified 500\n",
      "Created a chunk of size 620, which is longer than the specified 500\n",
      "Created a chunk of size 540, which is longer than the specified 500\n",
      "Created a chunk of size 1114, which is longer than the specified 500\n",
      "Created a chunk of size 643, which is longer than the specified 500\n",
      "Created a chunk of size 655, which is longer than the specified 500\n",
      "Created a chunk of size 620, which is longer than the specified 500\n",
      "Created a chunk of size 588, which is longer than the specified 500\n",
      "Created a chunk of size 503, which is longer than the specified 500\n",
      "Created a chunk of size 545, which is longer than the specified 500\n",
      "Created a chunk of size 581, which is longer than the specified 500\n",
      "Created a chunk of size 882, which is longer than the specified 500\n",
      "Created a chunk of size 989, which is longer than the specified 500\n",
      "Created a chunk of size 695, which is longer than the specified 500\n",
      "Created a chunk of size 1085, which is longer than the specified 500\n",
      "Created a chunk of size 1166, which is longer than the specified 500\n",
      "Created a chunk of size 937, which is longer than the specified 500\n",
      "Created a chunk of size 1007, which is longer than the specified 500\n",
      "Created a chunk of size 593, which is longer than the specified 500\n",
      "Created a chunk of size 660, which is longer than the specified 500\n",
      "Created a chunk of size 1075, which is longer than the specified 500\n",
      "Created a chunk of size 889, which is longer than the specified 500\n",
      "Created a chunk of size 506, which is longer than the specified 500\n",
      "Created a chunk of size 556, which is longer than the specified 500\n",
      "Created a chunk of size 815, which is longer than the specified 500\n",
      "Created a chunk of size 548, which is longer than the specified 500\n",
      "Created a chunk of size 668, which is longer than the specified 500\n",
      "Created a chunk of size 697, which is longer than the specified 500\n",
      "Created a chunk of size 655, which is longer than the specified 500\n",
      "Created a chunk of size 822, which is longer than the specified 500\n",
      "Created a chunk of size 1491, which is longer than the specified 500\n",
      "Created a chunk of size 1047, which is longer than the specified 500\n",
      "Created a chunk of size 625, which is longer than the specified 500\n",
      "Created a chunk of size 643, which is longer than the specified 500\n",
      "Created a chunk of size 556, which is longer than the specified 500\n",
      "Created a chunk of size 577, which is longer than the specified 500\n",
      "Created a chunk of size 963, which is longer than the specified 500\n",
      "Created a chunk of size 530, which is longer than the specified 500\n",
      "Created a chunk of size 1067, which is longer than the specified 500\n",
      "Created a chunk of size 1526, which is longer than the specified 500\n",
      "Created a chunk of size 1036, which is longer than the specified 500\n",
      "Created a chunk of size 691, which is longer than the specified 500\n",
      "Created a chunk of size 512, which is longer than the specified 500\n",
      "Created a chunk of size 599, which is longer than the specified 500\n",
      "Created a chunk of size 508, which is longer than the specified 500\n",
      "Created a chunk of size 512, which is longer than the specified 500\n",
      "Created a chunk of size 602, which is longer than the specified 500\n",
      "Created a chunk of size 654, which is longer than the specified 500\n",
      "Created a chunk of size 589, which is longer than the specified 500\n",
      "Created a chunk of size 562, which is longer than the specified 500\n",
      "Created a chunk of size 1278, which is longer than the specified 500\n",
      "Created a chunk of size 673, which is longer than the specified 500\n",
      "Created a chunk of size 543, which is longer than the specified 500\n",
      "Created a chunk of size 1115, which is longer than the specified 500\n",
      "Created a chunk of size 760, which is longer than the specified 500\n",
      "Created a chunk of size 562, which is longer than the specified 500\n",
      "Created a chunk of size 657, which is longer than the specified 500\n",
      "Created a chunk of size 671, which is longer than the specified 500\n",
      "Created a chunk of size 606, which is longer than the specified 500\n",
      "Created a chunk of size 565, which is longer than the specified 500\n",
      "Created a chunk of size 507, which is longer than the specified 500\n",
      "Created a chunk of size 599, which is longer than the specified 500\n",
      "Created a chunk of size 841, which is longer than the specified 500\n",
      "Created a chunk of size 565, which is longer than the specified 500\n",
      "Created a chunk of size 931, which is longer than the specified 500\n",
      "Created a chunk of size 1383, which is longer than the specified 500\n",
      "Created a chunk of size 562, which is longer than the specified 500\n",
      "Created a chunk of size 1016, which is longer than the specified 500\n",
      "Created a chunk of size 628, which is longer than the specified 500\n",
      "Created a chunk of size 642, which is longer than the specified 500\n",
      "Created a chunk of size 709, which is longer than the specified 500\n",
      "Created a chunk of size 1067, which is longer than the specified 500\n",
      "Created a chunk of size 810, which is longer than the specified 500\n",
      "Created a chunk of size 794, which is longer than the specified 500\n",
      "Created a chunk of size 1047, which is longer than the specified 500\n",
      "Created a chunk of size 524, which is longer than the specified 500\n",
      "Created a chunk of size 839, which is longer than the specified 500\n",
      "Created a chunk of size 1860, which is longer than the specified 500\n",
      "Created a chunk of size 576, which is longer than the specified 500\n",
      "Created a chunk of size 2613, which is longer than the specified 500\n",
      "Created a chunk of size 1973, which is longer than the specified 500\n",
      "Created a chunk of size 777, which is longer than the specified 500\n",
      "Created a chunk of size 1581, which is longer than the specified 500\n",
      "Created a chunk of size 1993, which is longer than the specified 500\n",
      "Created a chunk of size 825, which is longer than the specified 500\n",
      "Created a chunk of size 553, which is longer than the specified 500\n",
      "Created a chunk of size 539, which is longer than the specified 500\n",
      "Created a chunk of size 933, which is longer than the specified 500\n",
      "Created a chunk of size 503, which is longer than the specified 500\n",
      "Created a chunk of size 560, which is longer than the specified 500\n",
      "Created a chunk of size 3878, which is longer than the specified 500\n",
      "Created a chunk of size 1521, which is longer than the specified 500\n",
      "Created a chunk of size 1523, which is longer than the specified 500\n",
      "Created a chunk of size 1467, which is longer than the specified 500\n",
      "Created a chunk of size 2714, which is longer than the specified 500\n",
      "Created a chunk of size 1674, which is longer than the specified 500\n",
      "Created a chunk of size 1477, which is longer than the specified 500\n",
      "Created a chunk of size 2863, which is longer than the specified 500\n",
      "Created a chunk of size 1508, which is longer than the specified 500\n",
      "Created a chunk of size 1294, which is longer than the specified 500\n",
      "Created a chunk of size 1178, which is longer than the specified 500\n",
      "Created a chunk of size 997, which is longer than the specified 500\n",
      "Created a chunk of size 1355, which is longer than the specified 500\n",
      "Created a chunk of size 2352, which is longer than the specified 500\n",
      "Created a chunk of size 1700, which is longer than the specified 500\n",
      "Created a chunk of size 1460, which is longer than the specified 500\n",
      "Created a chunk of size 1902, which is longer than the specified 500\n",
      "Created a chunk of size 2208, which is longer than the specified 500\n",
      "Created a chunk of size 756, which is longer than the specified 500\n",
      "Created a chunk of size 813, which is longer than the specified 500\n",
      "Created a chunk of size 1482, which is longer than the specified 500\n",
      "Created a chunk of size 538, which is longer than the specified 500\n",
      "Created a chunk of size 690, which is longer than the specified 500\n",
      "Created a chunk of size 3652, which is longer than the specified 500\n",
      "Created a chunk of size 638, which is longer than the specified 500\n",
      "Created a chunk of size 1998, which is longer than the specified 500\n",
      "Created a chunk of size 555, which is longer than the specified 500\n",
      "Created a chunk of size 747, which is longer than the specified 500\n",
      "Created a chunk of size 776, which is longer than the specified 500\n",
      "Created a chunk of size 605, which is longer than the specified 500\n",
      "Created a chunk of size 662, which is longer than the specified 500\n",
      "Created a chunk of size 657, which is longer than the specified 500\n",
      "Created a chunk of size 1927, which is longer than the specified 500\n",
      "Created a chunk of size 526, which is longer than the specified 500\n",
      "Created a chunk of size 2859, which is longer than the specified 500\n",
      "Created a chunk of size 973, which is longer than the specified 500\n",
      "Created a chunk of size 1432, which is longer than the specified 500\n",
      "Created a chunk of size 2550, which is longer than the specified 500\n",
      "Created a chunk of size 1063, which is longer than the specified 500\n",
      "Created a chunk of size 778, which is longer than the specified 500\n",
      "Created a chunk of size 1097, which is longer than the specified 500\n",
      "Created a chunk of size 735, which is longer than the specified 500\n",
      "Created a chunk of size 1730, which is longer than the specified 500\n",
      "Created a chunk of size 849, which is longer than the specified 500\n",
      "Created a chunk of size 757, which is longer than the specified 500\n",
      "Created a chunk of size 711, which is longer than the specified 500\n",
      "Created a chunk of size 1589, which is longer than the specified 500\n",
      "Created a chunk of size 848, which is longer than the specified 500\n",
      "Created a chunk of size 812, which is longer than the specified 500\n",
      "Created a chunk of size 926, which is longer than the specified 500\n",
      "Created a chunk of size 919, which is longer than the specified 500\n",
      "Created a chunk of size 1230, which is longer than the specified 500\n",
      "Created a chunk of size 1328, which is longer than the specified 500\n",
      "Created a chunk of size 524, which is longer than the specified 500\n",
      "Created a chunk of size 555, which is longer than the specified 500\n",
      "Created a chunk of size 679, which is longer than the specified 500\n",
      "Created a chunk of size 4766, which is longer than the specified 500\n",
      "Created a chunk of size 929, which is longer than the specified 500\n",
      "Created a chunk of size 708, which is longer than the specified 500\n",
      "Created a chunk of size 662, which is longer than the specified 500\n",
      "Created a chunk of size 1488, which is longer than the specified 500\n",
      "Created a chunk of size 508, which is longer than the specified 500\n",
      "Created a chunk of size 1253, which is longer than the specified 500\n",
      "Created a chunk of size 655, which is longer than the specified 500\n",
      "Created a chunk of size 608, which is longer than the specified 500\n",
      "Created a chunk of size 637, which is longer than the specified 500\n",
      "Created a chunk of size 599, which is longer than the specified 500\n",
      "Created a chunk of size 593, which is longer than the specified 500\n",
      "Created a chunk of size 1215, which is longer than the specified 500\n",
      "Created a chunk of size 1078, which is longer than the specified 500\n",
      "Created a chunk of size 661, which is longer than the specified 500\n",
      "Created a chunk of size 1712, which is longer than the specified 500\n",
      "Created a chunk of size 559, which is longer than the specified 500\n",
      "Created a chunk of size 653, which is longer than the specified 500\n",
      "Created a chunk of size 768, which is longer than the specified 500\n",
      "Created a chunk of size 1083, which is longer than the specified 500\n",
      "Created a chunk of size 655, which is longer than the specified 500\n",
      "Created a chunk of size 768, which is longer than the specified 500\n",
      "Created a chunk of size 520, which is longer than the specified 500\n",
      "Created a chunk of size 745, which is longer than the specified 500\n",
      "Created a chunk of size 3322, which is longer than the specified 500\n",
      "Created a chunk of size 1043, which is longer than the specified 500\n",
      "Created a chunk of size 622, which is longer than the specified 500\n",
      "Created a chunk of size 689, which is longer than the specified 500\n",
      "Created a chunk of size 964, which is longer than the specified 500\n",
      "Created a chunk of size 719, which is longer than the specified 500\n",
      "Created a chunk of size 810, which is longer than the specified 500\n",
      "Created a chunk of size 1184, which is longer than the specified 500\n",
      "Created a chunk of size 674, which is longer than the specified 500\n",
      "Created a chunk of size 581, which is longer than the specified 500\n",
      "Created a chunk of size 1045, which is longer than the specified 500\n",
      "Created a chunk of size 563, which is longer than the specified 500\n",
      "Created a chunk of size 1132, which is longer than the specified 500\n",
      "Created a chunk of size 737, which is longer than the specified 500\n",
      "Created a chunk of size 1674, which is longer than the specified 500\n",
      "Created a chunk of size 634, which is longer than the specified 500\n",
      "Created a chunk of size 808, which is longer than the specified 500\n",
      "Created a chunk of size 800, which is longer than the specified 500\n",
      "Created a chunk of size 682, which is longer than the specified 500\n",
      "Created a chunk of size 595, which is longer than the specified 500\n",
      "Created a chunk of size 506, which is longer than the specified 500\n"
     ]
    }
   ],
   "source": [
    "text_splitter = CharacterTextSplitter(chunk_size=500, chunk_overlap=0)\n",
    "all_splits = text_splitter.split_documents(documents)"
   ]
  },
  {
   "cell_type": "markdown",
   "metadata": {},
   "source": [
    "### Create embedding vectors \n",
    "\n",
    "We put all vectors into an FAISS index named ```twenty_thousand_leagues_under_the_sea```."
   ]
  },
  {
   "cell_type": "code",
   "execution_count": 8,
   "metadata": {},
   "outputs": [],
   "source": [
    "vector_db = FAISS.from_documents(\n",
    "    documents=all_splits, \n",
    "    embedding=embeddings_model\n",
    ")"
   ]
  },
  {
   "cell_type": "code",
   "execution_count": 21,
   "metadata": {},
   "outputs": [],
   "source": [
    "vector_db.save_local(folder_path=\"../.\", index_name=\"twenty_thousand_leagues_under_the_sea\")"
   ]
  },
  {
   "cell_type": "markdown",
   "metadata": {},
   "source": [
    "### Load existing index"
   ]
  },
  {
   "cell_type": "code",
   "execution_count": 11,
   "metadata": {},
   "outputs": [],
   "source": [
    "vector_db = FAISS.load_local(\n",
    "    folder_path=\"../.\", \n",
    "    index_name=\"twenty_thousand_leagues_under_the_sea\", \n",
    "    embeddings=embeddings_model,\n",
    "    allow_dangerous_deserialization=True)"
   ]
  },
  {
   "cell_type": "markdown",
   "metadata": {},
   "source": [
    "### Query the database"
   ]
  },
  {
   "cell_type": "code",
   "execution_count": 12,
   "metadata": {},
   "outputs": [],
   "source": [
    "query = \"What is the Nautilus?\"\n",
    "docs = vector_db.similarity_search(query)"
   ]
  },
  {
   "cell_type": "code",
   "execution_count": 13,
   "metadata": {},
   "outputs": [
    {
     "name": "stdout",
     "output_type": "stream",
     "text": [
      "“Ah, Commander! your _Nautilus_ is certainly a marvellous boat.”\n",
      "“But how could you construct this wonderful _Nautilus_ in secret?”\n",
      "I could not answer that question, and I feared that Captain Nemo would\n",
      "rather take us to the vast ocean that touches the coasts of Asia and\n",
      "America at the same time. He would thus complete the tour round the\n",
      "submarine world, and return to those waters in which the _Nautilus_\n",
      "could sail freely. We ought, before long, to settle this important\n",
      "point. The _Nautilus_ went at a rapid pace. The polar circle was soon\n",
      "passed, and the course shaped for Cape Horn. We were off the American\n",
      "point, March 31st, at seven o’clock in the evening. Then all our past\n",
      "sufferings were forgotten. The remembrance of that imprisonment in the\n",
      "ice was effaced from our minds. We only thought of the future. Captain\n",
      "Nemo did not appear again either in the drawing-room or on the\n",
      "platform. The point shown each day on the planisphere, and, marked by\n",
      "the lieutenant, showed me the exact direction of the _Nautilus_. Now,\n",
      "on that evening, it was evident, to, my great satisfaction, that we\n",
      "were going back to the North by the Atlantic. The next day, April 1st,\n",
      "when the _Nautilus_ ascended to the surface some minutes before noon,\n",
      "we sighted land to the west. It was Terra del Fuego, which the first\n",
      "navigators named thus from seeing the quantity of smoke that rose from\n",
      "the natives’ huts. The coast seemed low to me, but in the distance rose\n",
      "high mountains. I even thought I had a glimpse of Mount Sarmiento, that\n",
      "rises 2,070 yards above the level of the sea, with a very pointed\n",
      "summit, which, according as it is misty or clear, is a sign of fine or\n",
      "of wet weather. At this moment the peak was clearly defined against the\n",
      "sky. The _Nautilus_, diving again under the water, approached the\n",
      "coast, which was only some few miles off. From the glass windows in the\n",
      "drawing-room, I saw long seaweeds and gigantic fuci and varech, of\n",
      "which the open polar sea contains so many specimens, with their sharp\n",
      "polished filaments; they measured about 300 yards in length—real\n",
      "cables, thicker than one’s thumb; and, having great tenacity, they are\n",
      "often used as ropes for vessels. Another weed known as velp, with\n",
      "leaves four feet long, buried in the coral concretions, hung at the\n",
      "bottom. It served as nest and food for myriads of crustacea and\n",
      "molluscs, crabs, and cuttlefish. There seals and otters had splendid\n",
      "repasts, eating the flesh of fish with sea-vegetables, according to the\n",
      "English fashion. Over this fertile and luxuriant ground the _Nautilus_\n",
      "passed with great rapidity. Towards evening it approached the Falkland\n",
      "group, the rough summits of which I recognised the following day. The\n",
      "depth of the sea was moderate. On the shores our nets brought in\n",
      "beautiful specimens of sea weed, and particularly a certain fucus, the\n",
      "roots of which were filled with the best mussels in the world. Geese\n",
      "and ducks fell by dozens on the platform, and soon took their places in\n",
      "the pantry on board.\n",
      "“What are they, Captain?”\n",
      "\n",
      "“That involves my telling you how the _Nautilus_ is worked.”\n",
      "\n",
      "“I am impatient to learn.”\n"
     ]
    }
   ],
   "source": [
    "for doc in docs:\n",
    "    print(doc.page_content)"
   ]
  },
  {
   "cell_type": "markdown",
   "metadata": {},
   "source": [
    "### Basic retrieval"
   ]
  },
  {
   "cell_type": "code",
   "execution_count": 14,
   "metadata": {},
   "outputs": [],
   "source": [
    "retriever = vector_db.as_retriever()"
   ]
  },
  {
   "cell_type": "code",
   "execution_count": 15,
   "metadata": {},
   "outputs": [],
   "source": [
    "docs = retriever.get_relevant_documents(query)"
   ]
  },
  {
   "cell_type": "code",
   "execution_count": 16,
   "metadata": {},
   "outputs": [
    {
     "name": "stdout",
     "output_type": "stream",
     "text": [
      "“Ah, Commander! your _Nautilus_ is certainly a marvellous boat.”\n",
      "“But how could you construct this wonderful _Nautilus_ in secret?”\n",
      "I could not answer that question, and I feared that Captain Nemo would\n",
      "rather take us to the vast ocean that touches the coasts of Asia and\n",
      "America at the same time. He would thus complete the tour round the\n",
      "submarine world, and return to those waters in which the _Nautilus_\n",
      "could sail freely. We ought, before long, to settle this important\n",
      "point. The _Nautilus_ went at a rapid pace. The polar circle was soon\n",
      "passed, and the course shaped for Cape Horn. We were off the American\n",
      "point, March 31st, at seven o’clock in the evening. Then all our past\n",
      "sufferings were forgotten. The remembrance of that imprisonment in the\n",
      "ice was effaced from our minds. We only thought of the future. Captain\n",
      "Nemo did not appear again either in the drawing-room or on the\n",
      "platform. The point shown each day on the planisphere, and, marked by\n",
      "the lieutenant, showed me the exact direction of the _Nautilus_. Now,\n",
      "on that evening, it was evident, to, my great satisfaction, that we\n",
      "were going back to the North by the Atlantic. The next day, April 1st,\n",
      "when the _Nautilus_ ascended to the surface some minutes before noon,\n",
      "we sighted land to the west. It was Terra del Fuego, which the first\n",
      "navigators named thus from seeing the quantity of smoke that rose from\n",
      "the natives’ huts. The coast seemed low to me, but in the distance rose\n",
      "high mountains. I even thought I had a glimpse of Mount Sarmiento, that\n",
      "rises 2,070 yards above the level of the sea, with a very pointed\n",
      "summit, which, according as it is misty or clear, is a sign of fine or\n",
      "of wet weather. At this moment the peak was clearly defined against the\n",
      "sky. The _Nautilus_, diving again under the water, approached the\n",
      "coast, which was only some few miles off. From the glass windows in the\n",
      "drawing-room, I saw long seaweeds and gigantic fuci and varech, of\n",
      "which the open polar sea contains so many specimens, with their sharp\n",
      "polished filaments; they measured about 300 yards in length—real\n",
      "cables, thicker than one’s thumb; and, having great tenacity, they are\n",
      "often used as ropes for vessels. Another weed known as velp, with\n",
      "leaves four feet long, buried in the coral concretions, hung at the\n",
      "bottom. It served as nest and food for myriads of crustacea and\n",
      "molluscs, crabs, and cuttlefish. There seals and otters had splendid\n",
      "repasts, eating the flesh of fish with sea-vegetables, according to the\n",
      "English fashion. Over this fertile and luxuriant ground the _Nautilus_\n",
      "passed with great rapidity. Towards evening it approached the Falkland\n",
      "group, the rough summits of which I recognised the following day. The\n",
      "depth of the sea was moderate. On the shores our nets brought in\n",
      "beautiful specimens of sea weed, and particularly a certain fucus, the\n",
      "roots of which were filled with the best mussels in the world. Geese\n",
      "and ducks fell by dozens on the platform, and soon took their places in\n",
      "the pantry on board.\n",
      "“What are they, Captain?”\n",
      "\n",
      "“That involves my telling you how the _Nautilus_ is worked.”\n",
      "\n",
      "“I am impatient to learn.”\n"
     ]
    }
   ],
   "source": [
    "for doc in docs:\n",
    "    print(doc.page_content)"
   ]
  },
  {
   "cell_type": "code",
   "execution_count": 17,
   "metadata": {},
   "outputs": [],
   "source": [
    "prompt = hub.pull(\"rlm/rag-prompt-llama\")"
   ]
  },
  {
   "cell_type": "code",
   "execution_count": 18,
   "metadata": {},
   "outputs": [
    {
     "data": {
      "text/plain": [
       "ChatPromptTemplate(input_variables=['context', 'question'], metadata={'lc_hub_owner': 'rlm', 'lc_hub_repo': 'rag-prompt-llama', 'lc_hub_commit_hash': '693a2db5447e3b58c060a6ac02758dc7f1aaaaa4ee6214d127bf70b443158630'}, messages=[HumanMessagePromptTemplate(prompt=PromptTemplate(input_variables=['context', 'question'], template=\"[INST]<<SYS>> You are an assistant for question-answering tasks. Use the following pieces of retrieved context to answer the question. If you don't know the answer, just say that you don't know. Use three sentences maximum and keep the answer concise.<</SYS>> \\nQuestion: {question} \\nContext: {context} \\nAnswer: [/INST]\"))])"
      ]
     },
     "execution_count": 18,
     "metadata": {},
     "output_type": "execute_result"
    }
   ],
   "source": [
    "prompt"
   ]
  },
  {
   "cell_type": "code",
   "execution_count": 19,
   "metadata": {},
   "outputs": [
    {
     "name": "stderr",
     "output_type": "stream",
     "text": [
      "/Users/ramon.wartala/Documents/source/conversational-apps-with-langchain/.venv/lib/python3.12/site-packages/langchain_core/_api/deprecation.py:117: LangChainDeprecationWarning: The function `__call__` was deprecated in LangChain 0.1.0 and will be removed in 0.2.0. Use invoke instead.\n",
      "  warn_deprecated(\n"
     ]
    }
   ],
   "source": [
    "# RetrievalQA\n",
    "qa_chain = RetrievalQA.from_chain_type(\n",
    "    llm,\n",
    "    retriever=retriever,\n",
    "    chain_type_kwargs={\"prompt\": prompt}\n",
    ")\n",
    "result = qa_chain({\"query\": query})\n"
   ]
  },
  {
   "cell_type": "code",
   "execution_count": 20,
   "metadata": {},
   "outputs": [
    {
     "data": {
      "text/plain": [
       "{'query': 'What is the Nautilus?',\n",
       " 'result': 'Sure, here is the answer to the question:\\n\\nThe Nautilus is a boat that is described in the text. It is a marvelous boat that is owned by Commander. The text does not describe the Nautilus in detail, therefore I cannot answer the question.'}"
      ]
     },
     "execution_count": 20,
     "metadata": {},
     "output_type": "execute_result"
    }
   ],
   "source": [
    "result"
   ]
  }
 ],
 "metadata": {
  "kernelspec": {
   "display_name": ".venv",
   "language": "python",
   "name": "python3"
  },
  "language_info": {
   "codemirror_mode": {
    "name": "ipython",
    "version": 3
   },
   "file_extension": ".py",
   "mimetype": "text/x-python",
   "name": "python",
   "nbconvert_exporter": "python",
   "pygments_lexer": "ipython3",
   "version": "3.12.2"
  }
 },
 "nbformat": 4,
 "nbformat_minor": 2
}
