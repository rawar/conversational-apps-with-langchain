{
 "cells": [
  {
   "cell_type": "markdown",
   "metadata": {},
   "source": [
    "# Debugging in LangChain"
   ]
  },
  {
   "cell_type": "code",
   "execution_count": 42,
   "metadata": {},
   "outputs": [],
   "source": [
    "from langchain.agents import AgentType, initialize_agent, load_tools\n",
    "from langchain_community.chat_models import ChatOllama\n",
    "from langchain.globals import set_debug\n",
    "from langchain.globals import set_verbose\n",
    "from IPython.display import display, Markdown"
   ]
  },
  {
   "cell_type": "code",
   "execution_count": 43,
   "metadata": {},
   "outputs": [],
   "source": [
    "llm = ChatOllama(base_url=\"http://localhost:11434\", model=\"mistral:7b\", temperature=0)"
   ]
  },
  {
   "cell_type": "code",
   "execution_count": 44,
   "metadata": {},
   "outputs": [],
   "source": [
    "tools = load_tools([\"ddg-search\"], llm=llm)\n",
    "agent = initialize_agent(tools, llm, agent=AgentType.ZERO_SHOT_REACT_DESCRIPTION, handle_parsing_errors=True)"
   ]
  },
  {
   "cell_type": "code",
   "execution_count": 47,
   "metadata": {},
   "outputs": [],
   "source": [
    "set_debug(False)\n",
    "set_verbose(False)"
   ]
  },
  {
   "cell_type": "code",
   "execution_count": 46,
   "metadata": {},
   "outputs": [
    {
     "name": "stdout",
     "output_type": "stream",
     "text": [
      "\u001b[32;1m\u001b[1;3m[chain/start]\u001b[0m \u001b[1m[1:chain:AgentExecutor] Entering Chain run with input:\n",
      "\u001b[0m{\n",
      "  \"input\": \"Who directed the 2023 film Oppenheimer?\"\n",
      "}\n",
      "\u001b[32;1m\u001b[1;3m[chain/start]\u001b[0m \u001b[1m[1:chain:AgentExecutor > 2:chain:LLMChain] Entering Chain run with input:\n",
      "\u001b[0m{\n",
      "  \"input\": \"Who directed the 2023 film Oppenheimer?\",\n",
      "  \"agent_scratchpad\": \"\",\n",
      "  \"stop\": [\n",
      "    \"\\nObservation:\",\n",
      "    \"\\n\\tObservation:\"\n",
      "  ]\n",
      "}\n",
      "\u001b[32;1m\u001b[1;3m[llm/start]\u001b[0m \u001b[1m[1:chain:AgentExecutor > 2:chain:LLMChain > 3:llm:ChatOllama] Entering LLM run with input:\n",
      "\u001b[0m{\n",
      "  \"prompts\": [\n",
      "    \"Human: Answer the following questions as best you can. You have access to the following tools:\\n\\nduckduckgo_search: A wrapper around DuckDuckGo Search. Useful for when you need to answer questions about current events. Input should be a search query.\\n\\nUse the following format:\\n\\nQuestion: the input question you must answer\\nThought: you should always think about what to do\\nAction: the action to take, should be one of [duckduckgo_search]\\nAction Input: the input to the action\\nObservation: the result of the action\\n... (this Thought/Action/Action Input/Observation can repeat N times)\\nThought: I now know the final answer\\nFinal Answer: the final answer to the original input question\\n\\nBegin!\\n\\nQuestion: Who directed the 2023 film Oppenheimer?\\nThought:\"\n",
      "  ]\n",
      "}\n",
      "\u001b[36;1m\u001b[1;3m[llm/end]\u001b[0m \u001b[1m[1:chain:AgentExecutor > 2:chain:LLMChain > 3:llm:ChatOllama] [12.35s] Exiting LLM run with output:\n",
      "\u001b[0m{\n",
      "  \"generations\": [\n",
      "    [\n",
      "      {\n",
      "        \"text\": \" I don't have real-time access to information or the ability to directly know if there is a 2023 film named \\\"Oppenheimer.\\\" However, I can use DuckDuckGo Search to find out who directed that film if it exists.\\n\\nAction: duckduckgo_search\\nAction Input: Who directed the 2023 film Oppenheimer?\",\n",
      "        \"generation_info\": {\n",
      "          \"model\": \"mistral:7b\",\n",
      "          \"created_at\": \"2024-04-16T11:46:16.854047Z\",\n",
      "          \"message\": {\n",
      "            \"role\": \"assistant\",\n",
      "            \"content\": \"\"\n",
      "          },\n",
      "          \"done\": true,\n",
      "          \"total_duration\": 12342546750,\n",
      "          \"load_duration\": 4688833,\n",
      "          \"prompt_eval_count\": 199,\n",
      "          \"prompt_eval_duration\": 5366623000,\n",
      "          \"eval_count\": 86,\n",
      "          \"eval_duration\": 6964414000\n",
      "        },\n",
      "        \"type\": \"ChatGeneration\",\n",
      "        \"message\": {\n",
      "          \"lc\": 1,\n",
      "          \"type\": \"constructor\",\n",
      "          \"id\": [\n",
      "            \"langchain\",\n",
      "            \"schema\",\n",
      "            \"messages\",\n",
      "            \"AIMessage\"\n",
      "          ],\n",
      "          \"kwargs\": {\n",
      "            \"content\": \" I don't have real-time access to information or the ability to directly know if there is a 2023 film named \\\"Oppenheimer.\\\" However, I can use DuckDuckGo Search to find out who directed that film if it exists.\\n\\nAction: duckduckgo_search\\nAction Input: Who directed the 2023 film Oppenheimer?\"\n",
      "          }\n",
      "        }\n",
      "      }\n",
      "    ]\n",
      "  ],\n",
      "  \"llm_output\": null,\n",
      "  \"run\": null\n",
      "}\n",
      "\u001b[36;1m\u001b[1;3m[chain/end]\u001b[0m \u001b[1m[1:chain:AgentExecutor > 2:chain:LLMChain] [12.35s] Exiting Chain run with output:\n",
      "\u001b[0m{\n",
      "  \"text\": \" I don't have real-time access to information or the ability to directly know if there is a 2023 film named \\\"Oppenheimer.\\\" However, I can use DuckDuckGo Search to find out who directed that film if it exists.\\n\\nAction: duckduckgo_search\\nAction Input: Who directed the 2023 film Oppenheimer?\"\n",
      "}\n",
      "\u001b[32;1m\u001b[1;3m[tool/start]\u001b[0m \u001b[1m[1:chain:AgentExecutor > 4:tool:duckduckgo_search] Entering Tool run with input:\n",
      "\u001b[0m\"Who directed the 2023 film Oppenheimer?\"\n",
      "\u001b[36;1m\u001b[1;3m[tool/end]\u001b[0m \u001b[1m[1:chain:AgentExecutor > 4:tool:duckduckgo_search] [1.15s] Exiting Tool run with output:\n",
      "\u001b[0m\"Nolan's film tells the story of Robert Oppenheimer, the man who spearheaded the development of the atomic bomb. ... August 14, 2023 12:31 PM ET. ... Oppenheimer directed Los Alamos, the secret ... A massive, multi-faceted look at the American Prometheus. The movie is an academic-psychedelic biography in the vein of those 1990s Oliver Stone films that were edited within an inch of their lives (at times it's as if the park bench scene in \"JFK\" had been expanded to three hours).There's also a strain of pitch-black humor, in a Stanley Kubrick mode, as when top government officials meet to ... Oppenheimer grossed more than $300 million domestically and more than $600 million internationally by the end of November 2023, making it the second highest grossing R-rated film of all time. It swept the Golden Globe Awards, earning eight nominations and winning five awards, including best drama motion picture, best director, and best original ... Christopher Nolan's complex, vivid portrait of J. Robert Oppenheimer, the \"father of the atomic bomb,\" is a brilliant achievement in formal and conceptual terms. The writer and director ... Christopher Nolan finally wins his first Oscar for Best Director with Oppenheimer, a 2023 biographical thriller. Led by Cillian Murphy, Robert Downey Jr., and Emily Blunt, Oppenheimer set box office records and earned 13 Oscar nominations. Despite previous nominations, Nolan's win is well-deserved after a long wait and highlights his acclaimed ...\"\n",
      "\u001b[32;1m\u001b[1;3m[chain/start]\u001b[0m \u001b[1m[1:chain:AgentExecutor > 5:chain:LLMChain] Entering Chain run with input:\n",
      "\u001b[0m{\n",
      "  \"input\": \"Who directed the 2023 film Oppenheimer?\",\n",
      "  \"agent_scratchpad\": \" I don't have real-time access to information or the ability to directly know if there is a 2023 film named \\\"Oppenheimer.\\\" However, I can use DuckDuckGo Search to find out who directed that film if it exists.\\n\\nAction: duckduckgo_search\\nAction Input: Who directed the 2023 film Oppenheimer?\\nObservation: Nolan's film tells the story of Robert Oppenheimer, the man who spearheaded the development of the atomic bomb. ... August 14, 2023 12:31 PM ET. ... Oppenheimer directed Los Alamos, the secret ... A massive, multi-faceted look at the American Prometheus. The movie is an academic-psychedelic biography in the vein of those 1990s Oliver Stone films that were edited within an inch of their lives (at times it's as if the park bench scene in \\\"JFK\\\" had been expanded to three hours).There's also a strain of pitch-black humor, in a Stanley Kubrick mode, as when top government officials meet to ... Oppenheimer grossed more than $300 million domestically and more than $600 million internationally by the end of November 2023, making it the second highest grossing R-rated film of all time. It swept the Golden Globe Awards, earning eight nominations and winning five awards, including best drama motion picture, best director, and best original ... Christopher Nolan's complex, vivid portrait of J. Robert Oppenheimer, the \\\"father of the atomic bomb,\\\" is a brilliant achievement in formal and conceptual terms. The writer and director ... Christopher Nolan finally wins his first Oscar for Best Director with Oppenheimer, a 2023 biographical thriller. Led by Cillian Murphy, Robert Downey Jr., and Emily Blunt, Oppenheimer set box office records and earned 13 Oscar nominations. Despite previous nominations, Nolan's win is well-deserved after a long wait and highlights his acclaimed ...\\nThought:\",\n",
      "  \"stop\": [\n",
      "    \"\\nObservation:\",\n",
      "    \"\\n\\tObservation:\"\n",
      "  ]\n",
      "}\n",
      "\u001b[32;1m\u001b[1;3m[llm/start]\u001b[0m \u001b[1m[1:chain:AgentExecutor > 5:chain:LLMChain > 6:llm:ChatOllama] Entering LLM run with input:\n",
      "\u001b[0m{\n",
      "  \"prompts\": [\n",
      "    \"Human: Answer the following questions as best you can. You have access to the following tools:\\n\\nduckduckgo_search: A wrapper around DuckDuckGo Search. Useful for when you need to answer questions about current events. Input should be a search query.\\n\\nUse the following format:\\n\\nQuestion: the input question you must answer\\nThought: you should always think about what to do\\nAction: the action to take, should be one of [duckduckgo_search]\\nAction Input: the input to the action\\nObservation: the result of the action\\n... (this Thought/Action/Action Input/Observation can repeat N times)\\nThought: I now know the final answer\\nFinal Answer: the final answer to the original input question\\n\\nBegin!\\n\\nQuestion: Who directed the 2023 film Oppenheimer?\\nThought: I don't have real-time access to information or the ability to directly know if there is a 2023 film named \\\"Oppenheimer.\\\" However, I can use DuckDuckGo Search to find out who directed that film if it exists.\\n\\nAction: duckduckgo_search\\nAction Input: Who directed the 2023 film Oppenheimer?\\nObservation: Nolan's film tells the story of Robert Oppenheimer, the man who spearheaded the development of the atomic bomb. ... August 14, 2023 12:31 PM ET. ... Oppenheimer directed Los Alamos, the secret ... A massive, multi-faceted look at the American Prometheus. The movie is an academic-psychedelic biography in the vein of those 1990s Oliver Stone films that were edited within an inch of their lives (at times it's as if the park bench scene in \\\"JFK\\\" had been expanded to three hours).There's also a strain of pitch-black humor, in a Stanley Kubrick mode, as when top government officials meet to ... Oppenheimer grossed more than $300 million domestically and more than $600 million internationally by the end of November 2023, making it the second highest grossing R-rated film of all time. It swept the Golden Globe Awards, earning eight nominations and winning five awards, including best drama motion picture, best director, and best original ... Christopher Nolan's complex, vivid portrait of J. Robert Oppenheimer, the \\\"father of the atomic bomb,\\\" is a brilliant achievement in formal and conceptual terms. The writer and director ... Christopher Nolan finally wins his first Oscar for Best Director with Oppenheimer, a 2023 biographical thriller. Led by Cillian Murphy, Robert Downey Jr., and Emily Blunt, Oppenheimer set box office records and earned 13 Oscar nominations. Despite previous nominations, Nolan's win is well-deserved after a long wait and highlights his acclaimed ...\\nThought:\"\n",
      "  ]\n",
      "}\n",
      "\u001b[36;1m\u001b[1;3m[llm/end]\u001b[0m \u001b[1m[1:chain:AgentExecutor > 5:chain:LLMChain > 6:llm:ChatOllama] [7.55s] Exiting LLM run with output:\n",
      "\u001b[0m{\n",
      "  \"generations\": [\n",
      "    [\n",
      "      {\n",
      "        \"text\": \" Based on the observation from the DuckDuckGo search, Christopher Nolan directed the film \\\"Oppenheimer\\\" (2023).\\n\\nFinal Answer: Christopher Nolan\",\n",
      "        \"generation_info\": {\n",
      "          \"model\": \"mistral:7b\",\n",
      "          \"created_at\": \"2024-04-16T11:46:25.565123Z\",\n",
      "          \"message\": {\n",
      "            \"role\": \"assistant\",\n",
      "            \"content\": \"\"\n",
      "          },\n",
      "          \"done\": true,\n",
      "          \"total_duration\": 7543681583,\n",
      "          \"load_duration\": 6678833,\n",
      "          \"prompt_eval_count\": 464,\n",
      "          \"prompt_eval_duration\": 4311804000,\n",
      "          \"eval_count\": 39,\n",
      "          \"eval_duration\": 3218405000\n",
      "        },\n",
      "        \"type\": \"ChatGeneration\",\n",
      "        \"message\": {\n",
      "          \"lc\": 1,\n",
      "          \"type\": \"constructor\",\n",
      "          \"id\": [\n",
      "            \"langchain\",\n",
      "            \"schema\",\n",
      "            \"messages\",\n",
      "            \"AIMessage\"\n",
      "          ],\n",
      "          \"kwargs\": {\n",
      "            \"content\": \" Based on the observation from the DuckDuckGo search, Christopher Nolan directed the film \\\"Oppenheimer\\\" (2023).\\n\\nFinal Answer: Christopher Nolan\"\n",
      "          }\n",
      "        }\n",
      "      }\n",
      "    ]\n",
      "  ],\n",
      "  \"llm_output\": null,\n",
      "  \"run\": null\n",
      "}\n",
      "\u001b[36;1m\u001b[1;3m[chain/end]\u001b[0m \u001b[1m[1:chain:AgentExecutor > 5:chain:LLMChain] [7.56s] Exiting Chain run with output:\n",
      "\u001b[0m{\n",
      "  \"text\": \" Based on the observation from the DuckDuckGo search, Christopher Nolan directed the film \\\"Oppenheimer\\\" (2023).\\n\\nFinal Answer: Christopher Nolan\"\n",
      "}\n",
      "\u001b[36;1m\u001b[1;3m[chain/end]\u001b[0m \u001b[1m[1:chain:AgentExecutor] [21.07s] Exiting Chain run with output:\n",
      "\u001b[0m{\n",
      "  \"output\": \"Christopher Nolan\"\n",
      "}\n"
     ]
    }
   ],
   "source": [
    "response = agent.invoke(\"Who directed the 2023 film Oppenheimer?\")"
   ]
  },
  {
   "cell_type": "code",
   "execution_count": 48,
   "metadata": {},
   "outputs": [
    {
     "data": {
      "text/markdown": [
       "Christopher Nolan"
      ],
      "text/plain": [
       "<IPython.core.display.Markdown object>"
      ]
     },
     "metadata": {},
     "output_type": "display_data"
    }
   ],
   "source": [
    "display(Markdown(response['output']))"
   ]
  }
 ],
 "metadata": {
  "kernelspec": {
   "display_name": ".venv",
   "language": "python",
   "name": "python3"
  },
  "language_info": {
   "codemirror_mode": {
    "name": "ipython",
    "version": 3
   },
   "file_extension": ".py",
   "mimetype": "text/x-python",
   "name": "python",
   "nbconvert_exporter": "python",
   "pygments_lexer": "ipython3",
   "version": "3.12.2"
  }
 },
 "nbformat": 4,
 "nbformat_minor": 2
}
