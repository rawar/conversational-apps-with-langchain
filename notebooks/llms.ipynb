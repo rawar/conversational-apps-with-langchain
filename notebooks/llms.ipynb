{
 "cells": [
  {
   "cell_type": "markdown",
   "metadata": {},
   "source": [
    "# Large Language Models (LLMs)\n",
    "\n",
    "Large Language Models (LLMs) are a core component of LangChain. LangChain does not serve its own LLMs, but rather provides a standard interface for interacting with many different LLMs. To be specific, this interface is one that takes as input a string and returns a string."
   ]
  },
  {
   "cell_type": "markdown",
   "metadata": {},
   "source": [
    "## LLM setup"
   ]
  },
  {
   "cell_type": "code",
   "execution_count": 5,
   "metadata": {},
   "outputs": [],
   "source": [
    "import os\n",
    "from getpass import getpass\n",
    "from langchain.prompts import PromptTemplate\n",
    "from langchain.llms import OpenAI\n",
    "from langchain.chains import LLMChain\n",
    "from langchain_openai import AzureChatOpenAI, AzureOpenAIEmbeddings\n",
    "from langchain_core.messages import HumanMessage, SystemMessage\n",
    "from dotenv import load_dotenv"
   ]
  },
  {
   "cell_type": "code",
   "execution_count": null,
   "metadata": {},
   "outputs": [],
   "source": [
    "prompt = PromptTemplate(\n",
    "    input_variables=[\"product\"],\n",
    "    template=\"What is a good name for a company that makes {product}?\",\n",
    ")\n",
    "\n",
    "print(prompt.format(product=\"podcast player\"))"
   ]
  },
  {
   "cell_type": "markdown",
   "metadata": {},
   "source": [
    "### Azure OpenAI\n",
    "\n",
    "Azure OpenAI Service provides REST API access to OpenAI’s powerful language models including the GPT-4, GPT-3.5-Turbo, and Embeddings model series."
   ]
  },
  {
   "cell_type": "code",
   "execution_count": 9,
   "metadata": {},
   "outputs": [],
   "source": [
    "import os\n",
    "from langchain_core.messages import HumanMessage\n",
    "from langchain_openai import AzureChatOpenAI"
   ]
  },
  {
   "cell_type": "markdown",
   "metadata": {},
   "source": [
    "#### Past keys"
   ]
  },
  {
   "cell_type": "code",
   "execution_count": null,
   "metadata": {},
   "outputs": [],
   "source": [
    "os.environ[\"AZURE_OPENAI_API_KEY\"] = getpass(\"Enter your OpenAI API Key: \")\n",
    "os.environ[\"AZURE_OPENAI_ENDPOINT\"] = getpass(\"Enter your Astra DB API Endpoint: \")"
   ]
  },
  {
   "cell_type": "markdown",
   "metadata": {},
   "source": [
    "#### Load keys"
   ]
  },
  {
   "cell_type": "code",
   "execution_count": null,
   "metadata": {},
   "outputs": [],
   "source": [
    "load_dotenv()"
   ]
  },
  {
   "cell_type": "code",
   "execution_count": 11,
   "metadata": {},
   "outputs": [],
   "source": [
    "llm = AzureChatOpenAI(\n",
    "    openai_api_version=\"2023-05-15\",\n",
    "    azure_deployment=\"gpt-4\",\n",
    ")"
   ]
  },
  {
   "cell_type": "code",
   "execution_count": 17,
   "metadata": {},
   "outputs": [],
   "source": [
    "message = HumanMessage(\n",
    "    content=\"Translate this sentence from English to French. I love programming.\"\n",
    ")\n",
    "response = llm([message])"
   ]
  },
  {
   "cell_type": "code",
   "execution_count": 25,
   "metadata": {},
   "outputs": [
    {
     "name": "stdout",
     "output_type": "stream",
     "text": [
      "J'aime la programmation.\n"
     ]
    }
   ],
   "source": [
    "print(response.content)"
   ]
  },
  {
   "cell_type": "markdown",
   "metadata": {},
   "source": [
    "### Google Cloud Vetex AI"
   ]
  },
  {
   "cell_type": "code",
   "execution_count": 6,
   "metadata": {},
   "outputs": [],
   "source": [
    "from langchain_core.prompts import ChatPromptTemplate\n",
    "from langchain_google_vertexai import ChatVertexAI"
   ]
  },
  {
   "cell_type": "code",
   "execution_count": 7,
   "metadata": {},
   "outputs": [],
   "source": [
    "os.environ[\"GOOGLE_APPLICATION_CREDENTIALS\"] = getpass(\"Enter your Google Application Credentials (JSON): \")"
   ]
  },
  {
   "cell_type": "code",
   "execution_count": null,
   "metadata": {},
   "outputs": [],
   "source": [
    "system = \"You are a helpful assistant who translate English to French\"\n",
    "human = \"Translate this sentence from English to French. I love programming.\"\n",
    "prompt = ChatPromptTemplate.from_messages([(\"system\", system), (\"human\", human)])\n",
    "\n",
    "chat = ChatVertexAI()\n",
    "\n",
    "chain = prompt | chat\n",
    "chain.invoke({})"
   ]
  },
  {
   "cell_type": "markdown",
   "metadata": {},
   "source": [
    "### Huggingface\n",
    "\n",
    "To instantiate a Hugging Face LLM there are three options available\n",
    "\n",
    "* HuggingFaceTextGenInference\n",
    "* HuggingFaceEndpoint\n",
    "* HuggingFaceHub"
   ]
  },
  {
   "cell_type": "code",
   "execution_count": null,
   "metadata": {},
   "outputs": [],
   "source": [
    "import os\n",
    "from langchain_community.llms import HuggingFaceTextGenInference"
   ]
  },
  {
   "cell_type": "markdown",
   "metadata": {},
   "source": [
    "### Ollama\n",
    "\n",
    "Ollama allows you to run open-source large language models, such as Google's Gemma, LlaMA 2 or Mistral locally. Ollama supports importing [models](https://ollama.com/library) in GGUF format (GPT-Generated Unified Format). Ollama bundles model weights, configuration, and data into a single package, defined by a Modelfile. It optimizes setup and configuration details, including CPU and GPU usage."
   ]
  },
  {
   "cell_type": "markdown",
   "metadata": {},
   "source": [
    "#### Gemma7B\n",
    "\n",
    "Gemma is a family of lightweight, state-of-the-art open models built by Google DeepMind. It’s inspired by Gemini models at Google.\n",
    "Gemma is available in both 2b and 7b parameter sizes. The models undergo training on a diverse dataset of web documents to expose them to a wide range of linguistic styles, topics, and vocabularies. This includes code to learn syntax and patterns of programming languages, as well as mathematical text to grasp logical reasoning.\n",
    "To ensure the safety of the model, the team employed various data cleaning and filtering techniques, including rigorous filtering for CSAM (child sexual abuse material), sensitive data filtering, and filtering based on content quality in compliance with Google’s policies."
   ]
  },
  {
   "cell_type": "code",
   "execution_count": 15,
   "metadata": {},
   "outputs": [
    {
     "name": "stdout",
     "output_type": "stream",
     "text": [
      "Why did the AI scientist cross the road?\n",
      "\n",
      "To get to the other algorithm side.\n"
     ]
    }
   ],
   "source": [
    "from langchain_community.chat_models import ChatOllama\n",
    "from langchain_core.output_parsers import StrOutputParser\n",
    "from langchain_core.prompts import ChatPromptTemplate\n",
    "\n",
    "llm = ChatOllama(base_url=\"http://localhost:11434\", model=\"gemma:7b\")\n",
    "prompt = ChatPromptTemplate.from_template(\"Tell me a short joke about {topic}\")\n",
    "chain = prompt | llm | StrOutputParser()\n",
    "topic = {\"topic\": \"Artificial Intelligence\"}\n",
    "\n",
    "print(chain.invoke(topic))"
   ]
  },
  {
   "cell_type": "code",
   "execution_count": 17,
   "metadata": {},
   "outputs": [
    {
     "name": "stdout",
     "output_type": "stream",
     "text": [
      "The sky appears blue due to a phenomenon called **Rayleigh Scattering**. Here's the breakdown:\n",
      "\n",
      "1. **Sunlight:** The sun emits all colors of the rainbow, including blue light.\n",
      "2. **Scattering:** When sunlight enters Earth's atmosphere, particles like nitrogen and oxygen scatter the different colors of light in all directions.\n",
      "3. **Blue Scatter:** Blue light scatters more effectively than other colors because it has shorter wavelengths.\n",
      "4. **Scattered Light:** Scattered light travels in all directions, but the scattered light that reaches our eyes is mainly from the direction opposite the sun.\n",
      "5. **Sky Color:** As a result, we see the sky as blue because the scattered light from all directions, including the direction opposite the sun, combines to create a blue hue.\n",
      "\n",
      "**Additional factors:**\n",
      "\n",
      "* **Time of Day:** The intensity of the blue color is strongest when the sun is high in the sky, around noon. It is fainter at sunrise and sunset because the sun's rays have to travel through a greater amount of atmosphere to reach our eyes.\n",
      "* **Dust and Pollution:** Dust particles and pollution can scatter different colors of light, making the sky appear gray or milky white.\n",
      "* **Clouds:** Clouds can also scatter sunlight, sometimes making the sky appear white or gray.\n",
      "\n",
      "**Other colors:**\n",
      "\n",
      "While the sky often appears blue, you can sometimes see other colors, such as red, orange, and pink. These are caused by different scattering processes and are usually seen at sunrise and sunset."
     ]
    },
    {
     "data": {
      "text/plain": [
       "AIMessage(content=\"The sky appears blue due to a phenomenon called **Rayleigh Scattering**. Here's the breakdown:\\n\\n1. **Sunlight:** The sun emits all colors of the rainbow, including blue light.\\n2. **Scattering:** When sunlight enters Earth's atmosphere, particles like nitrogen and oxygen scatter the different colors of light in all directions.\\n3. **Blue Scatter:** Blue light scatters more effectively than other colors because it has shorter wavelengths.\\n4. **Scattered Light:** Scattered light travels in all directions, but the scattered light that reaches our eyes is mainly from the direction opposite the sun.\\n5. **Sky Color:** As a result, we see the sky as blue because the scattered light from all directions, including the direction opposite the sun, combines to create a blue hue.\\n\\n**Additional factors:**\\n\\n* **Time of Day:** The intensity of the blue color is strongest when the sun is high in the sky, around noon. It is fainter at sunrise and sunset because the sun's rays have to travel through a greater amount of atmosphere to reach our eyes.\\n* **Dust and Pollution:** Dust particles and pollution can scatter different colors of light, making the sky appear gray or milky white.\\n* **Clouds:** Clouds can also scatter sunlight, sometimes making the sky appear white or gray.\\n\\n**Other colors:**\\n\\nWhile the sky often appears blue, you can sometimes see other colors, such as red, orange, and pink. These are caused by different scattering processes and are usually seen at sunrise and sunset.\", response_metadata={'model': 'gemma:7b', 'created_at': '2024-04-14T07:31:46.260195Z', 'message': {'role': 'assistant', 'content': ''}, 'done': True, 'total_duration': 36320976125, 'load_duration': 3003292, 'prompt_eval_count': 11, 'prompt_eval_duration': 3617479000, 'eval_count': 316, 'eval_duration': 32689715000}, id='run-6313762a-56c3-4598-b220-0ff40bf026f8-0')"
      ]
     },
     "execution_count": 17,
     "metadata": {},
     "output_type": "execute_result"
    }
   ],
   "source": [
    "from langchain.chat_models import ChatOllama\n",
    "from langchain.callbacks.manager import CallbackManager\n",
    "from langchain.callbacks.streaming_stdout import StreamingStdOutCallbackHandler\n",
    "from langchain.schema import HumanMessage\n",
    "\n",
    "llm = ChatOllama(model=\"gemma:7b\", base_url = \"http://localhost:11434\", callback_manager = CallbackManager([StreamingStdOutCallbackHandler()]))\n",
    "\n",
    "messages = [\n",
    "    HumanMessage(content=\"Why is the sky blue?\")\n",
    "]\n",
    "llm(messages)"
   ]
  },
  {
   "cell_type": "code",
   "execution_count": 18,
   "metadata": {},
   "outputs": [
    {
     "name": "stdout",
     "output_type": "stream",
     "text": [
      "Why is the car red.\n"
     ]
    }
   ],
   "source": [
    "from langchain.chat_models import ChatOllama\n",
    "from langchain.prompts import PromptTemplate\n",
    "from IPython.display import display, Markdown\n",
    "from langchain.chains import LLMChain\n",
    "\n",
    "llm = ChatOllama(model=\"gemma:7b\", base_url = \"http://localhost:11434\")\n",
    "\n",
    "prompt_template = PromptTemplate.from_template(\n",
    "    \"Why is the {topic} {color}.\"\n",
    ")\n",
    "\n",
    "prompt = prompt_template.format(topic=\"car\", color=\"red\")\n",
    "\n",
    "print(prompt)"
   ]
  },
  {
   "cell_type": "code",
   "execution_count": 19,
   "metadata": {},
   "outputs": [
    {
     "name": "stderr",
     "output_type": "stream",
     "text": [
      "/Users/ramon.wartala/Documents/source/conversational-apps-with-langchain/.venv/lib/python3.12/site-packages/langchain_core/_api/deprecation.py:117: LangChainDeprecationWarning: The function `run` was deprecated in LangChain 0.1.0 and will be removed in 0.2.0. Use invoke instead.\n",
      "  warn_deprecated(\n"
     ]
    },
    {
     "data": {
      "text/markdown": [
       "The sky appears blue due to a phenomenon called **Rayleigh Scattering**.\n",
       "\n",
       "**Rayleigh Scattering:**\n",
       "\n",
       "* When sunlight hits the Earth's atmosphere, it interacts with the particles of air, primarily nitrogen and oxygen molecules.\n",
       "* These particles scatter the sunlight in all directions.\n",
       "* However, the scattering of different wavelengths of light (colors) is not uniform.\n",
       "* Shorter wavelengths (blue light) are scattered more effectively than longer wavelengths (red and orange light).\n",
       "* The scattered blue light is scattered in all directions, including our eyes.\n",
       "\n",
       "**Blue Sky:**\n",
       "\n",
       "* When we look up at the sky, the scattered blue light from various directions converges on our eyes.\n",
       "* This is why we perceive the sky as blue.\n",
       "\n",
       "**Other Factors:**\n",
       "\n",
       "* The intensity of blue color is greatest at noon and decreases as the sun moves closer to the horizon.\n",
       "* The amount of scattering depends on the amount of air between the sun and the observer.\n",
       "* That's why the sky is often seen as greener or bluer near the horizon.\n",
       "\n",
       "**Additional Notes:**\n",
       "\n",
       "* The phenomenon of Rayleigh scattering is also responsible for the blue color of the ocean and the white appearance of the sun.\n",
       "* The scattering of light by particles in the atmosphere is a fundamental property of light and has been extensively studied in physics."
      ],
      "text/plain": [
       "<IPython.core.display.Markdown object>"
      ]
     },
     "metadata": {},
     "output_type": "display_data"
    }
   ],
   "source": [
    "chain = LLMChain(llm=llm, prompt=prompt_template)\n",
    "result = chain.run(topic=\"sky\", color=\"blue\")\n",
    "display(Markdown(result))"
   ]
  },
  {
   "cell_type": "markdown",
   "metadata": {},
   "source": [
    "#### Mistral7B\n",
    "\n",
    "[Mistral is a 7.3B](https://mistral.ai/news/announcing-mistral-7b/) parameter model, distributed with the Apache license. It is available in both instruct (instruction following) and text completion. The Mistral AI team has noted that Mistral 7B:\n",
    "\n",
    "* Outperforms Llama 2 13B on all benchmarks\n",
    "* Outperforms Llama 1 34B on many benchmarks\n",
    "* Approaches CodeLlama 7B performance on code, while remaining good at English tasks\n",
    "\n",
    "Mistral7B can easy deploy in the cloud (AWS/GCP/Azure) using [vLLM](https://docs.mistral.ai/self-deployment/skypilot/) or locally via Ollama. "
   ]
  },
  {
   "cell_type": "markdown",
   "metadata": {},
   "source": [
    "### Multi-modal with LlaVA\n",
    "\n",
    "[LLaVA](https://llava-vl.github.io) is a multimodal model that combines a vision encoder and Vicuna for general-purpose visual and language understanding, achieving impressive chat capabilities mimicking spirits of the multimodal GPT-4. LLaVA 1.6 supporting 672x672, 336x1344, 1344x336 resolutions, a better visual reasoning and OCR capability with an improved visual instruction tuning data mixture."
   ]
  },
  {
   "cell_type": "code",
   "execution_count": 20,
   "metadata": {},
   "outputs": [],
   "source": [
    "import base64\n",
    "from io import BytesIO\n",
    "from PIL import Image\n",
    "from datetime import datetime\n",
    "from IPython.display import HTML, display\n",
    "from langchain_community.chat_models import ChatOllama\n",
    "from langchain_core.output_parsers import StrOutputParser\n",
    "from langchain_core.prompts import ChatPromptTemplate\n",
    "from langchain_core.messages import HumanMessage"
   ]
  },
  {
   "cell_type": "code",
   "execution_count": 21,
   "metadata": {},
   "outputs": [],
   "source": [
    "def convert_to_base64(pil_image):\n",
    "    \"\"\"\n",
    "    Convert PIL images to Base64 encoded strings\n",
    "\n",
    "    :param pil_image: PIL image\n",
    "    :return: Re-sized Base64 string\n",
    "    \"\"\"\n",
    "\n",
    "    buffered = BytesIO()\n",
    "    pil_image.save(buffered, format=\"JPEG\")  # You can change the format if needed\n",
    "    img_str = base64.b64encode(buffered.getvalue()).decode(\"utf-8\")\n",
    "    return img_str\n",
    "\n",
    "def prompt_func(data):\n",
    "    text = data[\"text\"]\n",
    "    image = data[\"image\"]\n",
    "\n",
    "    image_part = {\n",
    "        \"type\": \"image_url\",\n",
    "        \"image_url\": f\"data:image/jpeg;base64,{image}\",\n",
    "    }\n",
    "\n",
    "    content_parts = []\n",
    "\n",
    "    text_part = {\"type\": \"text\", \"text\": text}\n",
    "\n",
    "    content_parts.append(image_part)\n",
    "    content_parts.append(text_part)\n",
    "\n",
    "    return [HumanMessage(content=content_parts)]\n",
    "\n",
    "def plt_img_base64(img_base64):\n",
    "    \"\"\"\n",
    "    Disply base64 encoded string as image\n",
    "\n",
    "    :param img_base64:  Base64 string\n",
    "    \"\"\"\n",
    "    # Create an HTML img tag with the base64 string as the source\n",
    "    image_html = f'<img src=\"data:image/jpeg;base64,{img_base64}\" />'\n",
    "    # Display the image by rendering the HTML\n",
    "    display(HTML(image_html))"
   ]
  },
  {
   "cell_type": "code",
   "execution_count": 22,
   "metadata": {},
   "outputs": [
    {
     "data": {
      "text/html": [
       "<img src=\"data:image/jpeg;base64,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\" />"
      ],
      "text/plain": [
       "<IPython.core.display.HTML object>"
      ]
     },
     "metadata": {},
     "output_type": "display_data"
    }
   ],
   "source": [
    "file_path = \"../assets/teatro-alla-scala.jpeg\"\n",
    "pil_image = Image.open(file_path)\n",
    "\n",
    "image_b64 = convert_to_base64(pil_image)\n",
    "plt_img_base64(image_b64)"
   ]
  },
  {
   "cell_type": "code",
   "execution_count": 24,
   "metadata": {},
   "outputs": [
    {
     "data": {
      "text/markdown": [
       " The image shows a building with classical architectural features, such as columns and a pediment. There is a flag on the facade of the building, which appears to be an Italian flag due to its design. In front of the building, there are people standing around, suggesting that this might be a public space or a location where an event is taking place. The sky is clear, indicating it's likely daytime. There are no visible texts or distinctive brands in the image. "
      ],
      "text/plain": [
       "<IPython.core.display.Markdown object>"
      ]
     },
     "metadata": {},
     "output_type": "display_data"
    },
    {
     "name": "stdout",
     "output_type": "stream",
     "text": [
      "Time elapsed (hh:mm:ss.ms) 0:00:14.214540\n"
     ]
    }
   ],
   "source": [
    "llm = ChatOllama(base_url=\"http://localhost:11434\", model=\"llava:v1.6\", temperature=0)\n",
    "\n",
    "chain = prompt_func | llm | StrOutputParser()\n",
    "\n",
    "start_time = datetime.now()\n",
    "query_chain = chain.invoke(\n",
    "    {\"text\": \"What is on this image?\", \"image\": image_b64}\n",
    ")\n",
    "\n",
    "display(Markdown(query_chain))\n",
    "#print(query_chain)\n",
    "\n",
    "time_elapsed = datetime.now() - start_time\n",
    "print('Time elapsed (hh:mm:ss.ms) {}'.format(time_elapsed))"
   ]
  },
  {
   "cell_type": "markdown",
   "metadata": {},
   "source": [
    "## Temperature"
   ]
  },
  {
   "cell_type": "markdown",
   "metadata": {},
   "source": []
  },
  {
   "cell_type": "markdown",
   "metadata": {},
   "source": [
    "## Tracking token usage\n",
    "\n",
    "Read more about token counting https://github.com/openai/openai-cookbook/blob/main/examples/How_to_count_tokens_with_tiktoken.ipynb"
   ]
  },
  {
   "cell_type": "code",
   "execution_count": 27,
   "metadata": {},
   "outputs": [],
   "source": [
    "import tiktoken\n",
    "\n",
    "# load the right encoding model for the LLM\n",
    "encoding = tiktoken.encoding_for_model(\"gpt-4\")"
   ]
  },
  {
   "cell_type": "code",
   "execution_count": 29,
   "metadata": {},
   "outputs": [],
   "source": [
    "tokens = encoding.encode(\"Why is the sky blue?\")"
   ]
  },
  {
   "cell_type": "code",
   "execution_count": 30,
   "metadata": {},
   "outputs": [
    {
     "data": {
      "text/plain": [
       "[10445, 374, 279, 13180, 6437, 30]"
      ]
     },
     "execution_count": 30,
     "metadata": {},
     "output_type": "execute_result"
    }
   ],
   "source": [
    "tokens"
   ]
  },
  {
   "cell_type": "code",
   "execution_count": 33,
   "metadata": {},
   "outputs": [
    {
     "data": {
      "text/plain": [
       "6"
      ]
     },
     "execution_count": 33,
     "metadata": {},
     "output_type": "execute_result"
    }
   ],
   "source": [
    "len(tokens)"
   ]
  },
  {
   "cell_type": "code",
   "execution_count": 37,
   "metadata": {},
   "outputs": [],
   "source": [
    "from langchain.callbacks import get_openai_callback"
   ]
  },
  {
   "cell_type": "code",
   "execution_count": 45,
   "metadata": {},
   "outputs": [
    {
     "name": "stdout",
     "output_type": "stream",
     "text": [
      "Total Cost (EUR): €0.006627\n"
     ]
    }
   ],
   "source": [
    "# without specifying the model version, flat-rate 0.002 USD per 1k input and output tokens is used\n",
    "\n",
    "with get_openai_callback() as cb:\n",
    "    chain = LLMChain(llm=llm, prompt=prompt_template)\n",
    "    result = chain.run(topic=\"sky\", color=\"blue\")\n",
    "    print(\n",
    "        f\"Total Cost (EUR): €{format(cb.total_cost * 0.94 , '.6f')}\"\n",
    "    )  "
   ]
  },
  {
   "cell_type": "markdown",
   "metadata": {},
   "source": [
    "## LangChain Expression Language (LCEL)\n",
    "\n",
    "LangChain Expression Language, or LCEL, is a declarative way to easily compose chains together. LCEL was designed from day 1 to support putting prototypes in production, with no code changes, from the simplest “prompt + LLM” chain to the most complex chains. The why is shown here: https://python.langchain.com/docs/expression_language/why/"
   ]
  },
  {
   "cell_type": "code",
   "execution_count": 47,
   "metadata": {},
   "outputs": [],
   "source": [
    "from langchain_core.output_parsers import StrOutputParser\n",
    "from langchain_core.prompts import ChatPromptTemplate"
   ]
  },
  {
   "cell_type": "code",
   "execution_count": 46,
   "metadata": {},
   "outputs": [],
   "source": [
    "prompt = ChatPromptTemplate.from_template(\"tell me a short joke about {topic}\")\n",
    "output_parser = StrOutputParser()"
   ]
  },
  {
   "cell_type": "code",
   "execution_count": 48,
   "metadata": {},
   "outputs": [
    {
     "data": {
      "text/plain": [
       "\"Why don't ice creams ever get into arguments?\\n\\nBecause they always stay cool!\""
      ]
     },
     "execution_count": 48,
     "metadata": {},
     "output_type": "execute_result"
    }
   ],
   "source": [
    "# Notice this line of the code, where we piece together these different components into a single chain using LCEL:\n",
    "chain = prompt | llm | output_parser"
   ]
  },
  {
   "cell_type": "code",
   "execution_count": 50,
   "metadata": {},
   "outputs": [
    {
     "data": {
      "text/markdown": [
       "Why don't ice creams ever get invited to parties?\n",
       "\n",
       "Because they always bring a melt-down!"
      ],
      "text/plain": [
       "<IPython.core.display.Markdown object>"
      ]
     },
     "metadata": {},
     "output_type": "display_data"
    }
   ],
   "source": [
    "result = chain.invoke({\"topic\": \"ice cream\"})\n",
    "display(Markdown(result))"
   ]
  }
 ],
 "metadata": {
  "kernelspec": {
   "display_name": ".venv",
   "language": "python",
   "name": "python3"
  },
  "language_info": {
   "codemirror_mode": {
    "name": "ipython",
    "version": 3
   },
   "file_extension": ".py",
   "mimetype": "text/x-python",
   "name": "python",
   "nbconvert_exporter": "python",
   "pygments_lexer": "ipython3",
   "version": "3.12.2"
  },
  "orig_nbformat": 4
 },
 "nbformat": 4,
 "nbformat_minor": 2
}
