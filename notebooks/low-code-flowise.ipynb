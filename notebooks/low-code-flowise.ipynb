{
 "cells": [
  {
   "cell_type": "code",
   "execution_count": 1,
   "metadata": {},
   "outputs": [],
   "source": [
    "import requests"
   ]
  },
  {
   "cell_type": "code",
   "execution_count": 2,
   "metadata": {},
   "outputs": [],
   "source": [
    "API_URL = \"http://localhost:3000/api/v1/prediction/85b50d30-2920-4451-ab6d-abb3e7883a12\""
   ]
  },
  {
   "cell_type": "code",
   "execution_count": 5,
   "metadata": {},
   "outputs": [],
   "source": [
    "def query(payload):\n",
    "    response = requests.post(API_URL, json=payload)\n",
    "    return response.json()\n",
    "    \n",
    "output = query({\n",
    "    \"question\": \"How high is the Emprire State building? Please answer in meters\",\n",
    "})"
   ]
  },
  {
   "cell_type": "code",
   "execution_count": 6,
   "metadata": {},
   "outputs": [
    {
     "name": "stdout",
     "output_type": "stream",
     "text": [
      "{'text': 'The Empire State Building is 442 meters tall.', 'question': 'How high is the Emprire State building? Please answer in meters', 'chatId': 'dd5ea019-9f72-44ae-a2ec-d626cb7ae1cd', 'chatMessageId': '7f40522e-55a0-427b-83c5-2f30e6b54ce1', 'sessionId': 'dd5ea019-9f72-44ae-a2ec-d626cb7ae1cd', 'memoryType': 'Buffer Memory'}\n"
     ]
    }
   ],
   "source": [
    "print(output)"
   ]
  }
 ],
 "metadata": {
  "kernelspec": {
   "display_name": ".venv",
   "language": "python",
   "name": "python3"
  },
  "language_info": {
   "codemirror_mode": {
    "name": "ipython",
    "version": 3
   },
   "file_extension": ".py",
   "mimetype": "text/x-python",
   "name": "python",
   "nbconvert_exporter": "python",
   "pygments_lexer": "ipython3",
   "version": "3.12.2"
  }
 },
 "nbformat": 4,
 "nbformat_minor": 2
}
